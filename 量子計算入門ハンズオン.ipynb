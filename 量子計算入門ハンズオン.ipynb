{
  "nbformat": 4,
  "nbformat_minor": 0,
  "metadata": {
    "colab": {
      "provenance": [],
      "collapsed_sections": [
        "UZhRK9VMymOI",
        "_4nXG4B4ypRd"
      ],
      "include_colab_link": true
    },
    "kernelspec": {
      "name": "python3",
      "display_name": "Python 3"
    },
    "language_info": {
      "name": "python"
    }
  },
  "cells": [
    {
      "cell_type": "markdown",
      "metadata": {
        "id": "view-in-github",
        "colab_type": "text"
      },
      "source": [
        "<a href=\"https://colab.research.google.com/github/saintbenjamin/saintbenjamin.github.io/blob/main/%E9%87%8F%E5%AD%90%E8%A8%88%E7%AE%97%E5%85%A5%E9%96%80%E3%83%8F%E3%83%B3%E3%82%BA%E3%82%AA%E3%83%B3.ipynb\" target=\"_parent\"><img src=\"https://colab.research.google.com/assets/colab-badge.svg\" alt=\"Open In Colab\"/></a>"
      ]
    },
    {
      "cell_type": "markdown",
      "source": [
        "# 量子計算入門ハンズオン\n",
        "\n",
        "このノートは計算物理春の学校2024の共通講義「量子計算入門」の講義資料です。\n",
        "\n",
        "ノートを編集して実行するには、メニュのファイル (File) → ドライブにコピーを保存 (Save a copy in Drive) から自分のノートを開いてください。\n",
        "\n",
        "## QURI Partsの紹介\n",
        "\n",
        "量子計算を記述するためのSDKは、各ハードウェアベンダーなどから様々提供されていますが、あるSDKで記述したアルゴリズムは、当然ながら別のSDKでは動きません。また目的の分野での量子アルゴリズムを記述するための、高度な機能がデフォルトで提供されているかどうかも、SDKによってまちまちです。QURI PartsはこうしたSDK間の差異を吸収し、共通したインタフェースで、高度な量子アルゴリズムを比較的容易に記述、実行できることを目的として開発されています。\n",
        "\n",
        "QURI PartsはQunaSysでの研究開発のために開発されていますが、一部はオープンソース化されており、pipから簡単にインストールできます。興味を持たれた方は、講義後もQURI Partsで量子計算を楽しんでみてください。\n",
        "\n",
        "このレクチャーでは量子回路の実行のためのバックエンドとして、[量子回路シミュレータQulacs](https://github.com/qulacs/qulacs)を使用しています。\n",
        "\n",
        "(この講義資料は、[QURI Parts Tutorial](https://quri-parts.qunasys.com)および[Quantum Native Dojo](https://dojo.qulacs.org/ja/latest/index.html)の内容を一部改変して作成されています。)"
      ],
      "metadata": {
        "id": "ptV94zPQfKAa"
      }
    },
    {
      "cell_type": "markdown",
      "source": [
        "# 環境構築\n",
        "\n",
        "まずはQuri Partsをインストールします。以下のセルを順に実行していきましょう。(Shift + Enterで実行できます。）"
      ],
      "metadata": {
        "id": "cGLTfpO6fNmo"
      }
    },
    {
      "cell_type": "code",
      "execution_count": null,
      "metadata": {
        "id": "ch8xBBXKez23",
        "colab": {
          "base_uri": "https://localhost:8080/"
        },
        "outputId": "dc2d02b1-a86f-4254-80d0-fa5fe6630e56"
      },
      "outputs": [
        {
          "output_type": "stream",
          "name": "stdout",
          "text": [
            "Collecting quri-parts[qulacs]\n",
            "  Downloading quri_parts-0.16.1-py3-none-any.whl (7.6 kB)\n",
            "Requirement already satisfied: matplotlib in /usr/local/lib/python3.10/dist-packages (3.7.1)\n",
            "Collecting quri-parts-algo (from quri-parts[qulacs])\n",
            "  Downloading quri_parts_algo-0.16.1-py3-none-any.whl (40 kB)\n",
            "\u001b[2K     \u001b[90m━━━━━━━━━━━━━━━━━━━━━━━━━━━━━━━━━━━━━━━━\u001b[0m \u001b[32m40.0/40.0 kB\u001b[0m \u001b[31m1.3 MB/s\u001b[0m eta \u001b[36m0:00:00\u001b[0m\n",
            "\u001b[?25hCollecting quri-parts-chem (from quri-parts[qulacs])\n",
            "  Downloading quri_parts_chem-0.16.1-py3-none-any.whl (27 kB)\n",
            "Collecting quri-parts-circuit (from quri-parts[qulacs])\n",
            "  Downloading quri_parts_circuit-0.16.1-py3-none-any.whl (63 kB)\n",
            "\u001b[2K     \u001b[90m━━━━━━━━━━━━━━━━━━━━━━━━━━━━━━━━━━━━━━━━\u001b[0m \u001b[32m63.6/63.6 kB\u001b[0m \u001b[31m8.1 MB/s\u001b[0m eta \u001b[36m0:00:00\u001b[0m\n",
            "\u001b[?25hCollecting quri-parts-core (from quri-parts[qulacs])\n",
            "  Downloading quri_parts_core-0.16.1-py3-none-any.whl (79 kB)\n",
            "\u001b[2K     \u001b[90m━━━━━━━━━━━━━━━━━━━━━━━━━━━━━━━━━━━━━━━━\u001b[0m \u001b[32m79.2/79.2 kB\u001b[0m \u001b[31m8.6 MB/s\u001b[0m eta \u001b[36m0:00:00\u001b[0m\n",
            "\u001b[?25hCollecting quri-parts-qulacs (from quri-parts[qulacs])\n",
            "  Downloading quri_parts_qulacs-0.16.1-py3-none-any.whl (22 kB)\n",
            "Requirement already satisfied: contourpy>=1.0.1 in /usr/local/lib/python3.10/dist-packages (from matplotlib) (1.2.0)\n",
            "Requirement already satisfied: cycler>=0.10 in /usr/local/lib/python3.10/dist-packages (from matplotlib) (0.12.1)\n",
            "Requirement already satisfied: fonttools>=4.22.0 in /usr/local/lib/python3.10/dist-packages (from matplotlib) (4.49.0)\n",
            "Requirement already satisfied: kiwisolver>=1.0.1 in /usr/local/lib/python3.10/dist-packages (from matplotlib) (1.4.5)\n",
            "Requirement already satisfied: numpy>=1.20 in /usr/local/lib/python3.10/dist-packages (from matplotlib) (1.25.2)\n",
            "Requirement already satisfied: packaging>=20.0 in /usr/local/lib/python3.10/dist-packages (from matplotlib) (23.2)\n",
            "Requirement already satisfied: pillow>=6.2.0 in /usr/local/lib/python3.10/dist-packages (from matplotlib) (9.4.0)\n",
            "Requirement already satisfied: pyparsing>=2.3.1 in /usr/local/lib/python3.10/dist-packages (from matplotlib) (3.1.2)\n",
            "Requirement already satisfied: python-dateutil>=2.7 in /usr/local/lib/python3.10/dist-packages (from matplotlib) (2.8.2)\n",
            "Requirement already satisfied: six>=1.5 in /usr/local/lib/python3.10/dist-packages (from python-dateutil>=2.7->matplotlib) (1.16.0)\n",
            "Requirement already satisfied: scipy<2.0.0,>=1.9.1 in /usr/local/lib/python3.10/dist-packages (from quri-parts-algo->quri-parts[qulacs]) (1.11.4)\n",
            "Requirement already satisfied: typing-extensions<5.0.0,>=4.1.1 in /usr/local/lib/python3.10/dist-packages (from quri-parts-algo->quri-parts[qulacs]) (4.10.0)\n",
            "Collecting Qulacs<0.6.0,>=0.3.0 (from quri-parts-qulacs->quri-parts[qulacs])\n",
            "  Downloading qulacs-0.5.6-cp310-cp310-manylinux_2_17_x86_64.manylinux2014_x86_64.whl (834 kB)\n",
            "\u001b[2K     \u001b[90m━━━━━━━━━━━━━━━━━━━━━━━━━━━━━━━━━━━━━━━━\u001b[0m \u001b[32m834.4/834.4 kB\u001b[0m \u001b[31m37.1 MB/s\u001b[0m eta \u001b[36m0:00:00\u001b[0m\n",
            "\u001b[?25hInstalling collected packages: quri-parts-circuit, quri-parts-core, Qulacs, quri-parts-qulacs, quri-parts-chem, quri-parts-algo, quri-parts\n",
            "Successfully installed Qulacs-0.5.6 quri-parts-0.16.1 quri-parts-algo-0.16.1 quri-parts-chem-0.16.1 quri-parts-circuit-0.16.1 quri-parts-core-0.16.1 quri-parts-qulacs-0.16.1\n"
          ]
        }
      ],
      "source": [
        "!python -m pip install quri-parts[qulacs] matplotlib"
      ]
    },
    {
      "cell_type": "markdown",
      "source": [
        "```\n",
        "Successfully installed ...\n",
        "```\n",
        "\n",
        "インストールが終わって上のようなメッセージが表示されたら、最初の量子回路を作ってみましょう。"
      ],
      "metadata": {
        "id": "ZvPeLJTPfeo5"
      }
    },
    {
      "cell_type": "code",
      "source": [
        "from math import pi\n",
        "from quri_parts.circuit import QuantumCircuit\n",
        "\n",
        "from quri_parts.circuit.utils.circuit_drawer import draw_circuit\n",
        "\n",
        "circuit = QuantumCircuit(3)\n",
        "circuit.add_RX_gate(0, pi/3)\n",
        "circuit.add_H_gate(1)\n",
        "circuit.add_CNOT_gate(1, 2)\n",
        "circuit.add_CNOT_gate(0, 1)\n",
        "circuit.add_H_gate(0)\n",
        "\n",
        "draw_circuit(circuit)"
      ],
      "metadata": {
        "id": "r4lFEZavfPhv",
        "colab": {
          "base_uri": "https://localhost:8080/"
        },
        "outputId": "386a3d75-3f67-4b65-cfa6-687b4aef554d"
      },
      "execution_count": null,
      "outputs": [
        {
          "output_type": "stream",
          "name": "stdout",
          "text": [
            "   ___                     ___  \n",
            "  |RX |                   | H | \n",
            "--|0  |-------------●-----|4  |-\n",
            "  |___|             |     |___| \n",
            "   ___             _|_          \n",
            "  | H |           |CX |         \n",
            "--|1  |-----●-----|3  |---------\n",
            "  |___|     |     |___|         \n",
            "           _|_                  \n",
            "          |CX |                 \n",
            "----------|2  |-----------------\n",
            "          |___|                 \n"
          ]
        }
      ]
    },
    {
      "cell_type": "markdown",
      "source": [
        "```\n",
        "   ___                     ___  \n",
        "  |RX |                   | H |\n",
        "--|0  |-------------●-----|4  |-\n",
        "  |___|             |     |___|\n",
        "   ___             _|_          \n",
        "  | H |           |CX |         \n",
        "--|1  |-----●-----|3  |---------\n",
        "  |___|     |     |___|         \n",
        "           _|_                  \n",
        "          |CX |                 \n",
        "----------|2  |-----------------\n",
        "          |___|             \n",
        "```\n",
        "\n",
        "上のような回路が表示されたでしょうか? これで準備は終わりです。上手く行っていない場合は、手を上げて教えてください。"
      ],
      "metadata": {
        "id": "7eqVb4C1fzm-"
      }
    },
    {
      "cell_type": "markdown",
      "source": [
        "# 第1章 量子ゲートと量子回路\n",
        "\n",
        "\n",
        "現在の量子計算では、量子ビットに作用する量子ゲートを並べて量子回路を構成し、実行、測定することが必要です。\n",
        "\n",
        "Q#やSilqのような高級言語も幾つか提案されていますが、量子ゲートは意識する必要があります。将来的にはより高級な表現で量子計算を記述することが一般的になる可能性もありますが、未来はまだわかりません。\n",
        "\n",
        "ここでは、QURI Partsで量子ゲートや量子回路をどのように扱うのか見て行きましょう。"
      ],
      "metadata": {
        "id": "jI9m3oXKgzAD"
      }
    },
    {
      "cell_type": "markdown",
      "source": [
        "## QuantumGateオブジェクト\n",
        "\n",
        "QURI Partsでは量子ゲートは`QuantumGate`オブジェクトとして表現されています。`QuantumGate`オブジェクトは、ゲートの種類や、パラメータ、作用対象の量子ビットの情報などを持っています。"
      ],
      "metadata": {
        "id": "DcD39vMJg4zC"
      }
    },
    {
      "cell_type": "code",
      "source": [
        "from quri_parts.circuit import X, RX, CNOT\n",
        "\n",
        "gates = [\n",
        "    # 量子ビット0に作用するXゲート\n",
        "    X(0),\n",
        "    # 量子ビット1に作用する角度pi/3の回転ゲート\n",
        "    RX(1, pi/3),\n",
        "    # 量子ビット2 (制御) と量子ビット1 (ターゲット) に作用するCNOTゲート\n",
        "    CNOT(2, 1),\n",
        "]\n",
        "\n",
        "for gate in gates:\n",
        "    print(gate)"
      ],
      "metadata": {
        "id": "rPf2pfI_g7DI",
        "colab": {
          "base_uri": "https://localhost:8080/"
        },
        "outputId": "9ba87083-de67-4fe1-eec4-95f7e48a5720"
      },
      "execution_count": null,
      "outputs": [
        {
          "output_type": "stream",
          "name": "stdout",
          "text": [
            "QuantumGate(name='X', target_indices=(0,), control_indices=(), classical_indices=(), params=(), pauli_ids=(), unitary_matrix=())\n",
            "QuantumGate(name='RX', target_indices=(1,), control_indices=(), classical_indices=(), params=(1.0471975511965976,), pauli_ids=(), unitary_matrix=())\n",
            "QuantumGate(name='CNOT', target_indices=(1,), control_indices=(2,), classical_indices=(), params=(), pauli_ids=(), unitary_matrix=())\n"
          ]
        }
      ]
    },
    {
      "cell_type": "markdown",
      "source": [
        "ゲートオブジェクトの情報は以下のように参照できます。(設定はできません。)"
      ],
      "metadata": {
        "id": "QxXN-WNohDlQ"
      }
    },
    {
      "cell_type": "code",
      "source": [
        "from quri_parts.circuit import PauliRotation\n",
        "\n",
        "x_gate = X(0)\n",
        "print(f\"name: {x_gate.name}, target: {x_gate.target_indices}\")\n",
        "\n",
        "rx_gate = RX(1, pi/3)\n",
        "print(f\"name: {rx_gate.name}, target: {rx_gate.target_indices}, angle: {rx_gate.params[0]}\")\n",
        "\n",
        "cnot_gate = CNOT(2, 1)\n",
        "print(f\"name: {cnot_gate.name}, control: {cnot_gate.control_indices}, target: {cnot_gate.target_indices}\")\n",
        "\n",
        "pauli_rot_gate = PauliRotation(target_indices=(0, 1, 2), pauli_ids=(1, 2, 3), angle=pi/3)\n",
        "print(f\"name: {pauli_rot_gate.name}, target: {pauli_rot_gate.target_indices}, pauli_ids: {pauli_rot_gate.pauli_ids}, angle: {pauli_rot_gate.params[0]}\")"
      ],
      "metadata": {
        "id": "n-Mco1xIhAvG",
        "colab": {
          "base_uri": "https://localhost:8080/"
        },
        "outputId": "95299e54-9099-44f0-b1f1-a538d3d92eab"
      },
      "execution_count": null,
      "outputs": [
        {
          "output_type": "stream",
          "name": "stdout",
          "text": [
            "name: X, target: (0,)\n",
            "name: RX, target: (1,), angle: 1.0471975511965976\n",
            "name: CNOT, control: (2,), target: (1,)\n",
            "name: PauliRotation, target: (0, 1, 2), pauli_ids: (1, 2, 3), angle: 1.0471975511965976\n"
          ]
        }
      ]
    },
    {
      "cell_type": "markdown",
      "source": [
        "## QuantumCircuitオブジェクト\n",
        "\n",
        "QURI Partsでは、以下のように、回路で使用される量子ビット数を指定して、量子回路を作成します。"
      ],
      "metadata": {
        "id": "oXppGnDqhKC8"
      }
    },
    {
      "cell_type": "code",
      "source": [
        "from quri_parts.circuit import QuantumCircuit\n",
        "\n",
        "# 3量子ビットの回路を作成\n",
        "circuit = QuantumCircuit(3)\n",
        "# QuantumGateオブジェクトを作成してから回路に追加\n",
        "circuit.add_gate(X(0))\n",
        "# 各ゲート追加用のメソッドを使用\n",
        "circuit.add_X_gate(0)\n",
        "circuit.add_RX_gate(1, pi/3)\n",
        "circuit.add_CNOT_gate(2, 1)\n",
        "circuit.add_PauliRotation_gate(target_qubits=(0, 1, 2), pauli_id_list=(1, 2, 3), angle=pi/3)"
      ],
      "metadata": {
        "id": "qJQDUTWGhGP1"
      },
      "execution_count": null,
      "outputs": []
    },
    {
      "cell_type": "markdown",
      "source": [
        "`QuantumCircuit`オブジェクトには幾つかのプロパティがあります。"
      ],
      "metadata": {
        "id": "dqmhGv_0hPmE"
      }
    },
    {
      "cell_type": "code",
      "source": [
        "print(\"Qubit count:\", circuit.qubit_count)\n",
        "print(\"Circuit depth:\", circuit.depth)\n",
        "\n",
        "gates = circuit.gates # .gatesプロパティは回路に含まれるゲートのSequenceを返します\n",
        "print(\"# of gates in the circuit:\", len(gates))\n",
        "for gate in gates:\n",
        "    print(gate)"
      ],
      "metadata": {
        "id": "2RW5ukpBhNIn",
        "colab": {
          "base_uri": "https://localhost:8080/"
        },
        "outputId": "239c56d4-d2ce-4805-d4b1-f8857a3edf22"
      },
      "execution_count": null,
      "outputs": [
        {
          "output_type": "stream",
          "name": "stdout",
          "text": [
            "Qubit count: 3\n",
            "Circuit depth: 3\n",
            "# of gates in the circuit: 5\n",
            "QuantumGate(name='X', target_indices=(0,), control_indices=(), classical_indices=(), params=(), pauli_ids=(), unitary_matrix=())\n",
            "QuantumGate(name='X', target_indices=(0,), control_indices=(), classical_indices=(), params=(), pauli_ids=(), unitary_matrix=())\n",
            "QuantumGate(name='RX', target_indices=(1,), control_indices=(), classical_indices=(), params=(1.0471975511965976,), pauli_ids=(), unitary_matrix=())\n",
            "QuantumGate(name='CNOT', target_indices=(1,), control_indices=(2,), classical_indices=(), params=(), pauli_ids=(), unitary_matrix=())\n",
            "QuantumGate(name='PauliRotation', target_indices=(0, 1, 2), control_indices=(), classical_indices=(), params=(1.0471975511965976,), pauli_ids=(1, 2, 3), unitary_matrix=())\n"
          ]
        }
      ]
    },
    {
      "cell_type": "markdown",
      "source": [
        "量子ビット数が同じ`QuantumCircuit`オブジェクト同士は連結することができます。"
      ],
      "metadata": {
        "id": "QqAliy3KhTkP"
      }
    },
    {
      "cell_type": "code",
      "source": [
        "circuit2 = QuantumCircuit(3)\n",
        "circuit2.add_Y_gate(1)\n",
        "circuit2.add_H_gate(2)\n",
        "\n",
        "combined = circuit + circuit2 # 右の処理と同等: combined = circuit.combine(circuit2)\n",
        "print(\"Combined circuit:\", combined.gates)\n",
        "\n",
        "circuit2 += circuit # 右の処理と同等: circuit2.extend(circuit)\n",
        "print(\"Extended circuit:\", circuit2.gates)"
      ],
      "metadata": {
        "id": "5rpNT5pChRa9",
        "colab": {
          "base_uri": "https://localhost:8080/"
        },
        "outputId": "33e2873b-3aaa-4dc2-845f-e194c2d9d1c5"
      },
      "execution_count": null,
      "outputs": [
        {
          "output_type": "stream",
          "name": "stdout",
          "text": [
            "Combined circuit: (QuantumGate(name='X', target_indices=(0,), control_indices=(), classical_indices=(), params=(), pauli_ids=(), unitary_matrix=()), QuantumGate(name='X', target_indices=(0,), control_indices=(), classical_indices=(), params=(), pauli_ids=(), unitary_matrix=()), QuantumGate(name='RX', target_indices=(1,), control_indices=(), classical_indices=(), params=(1.0471975511965976,), pauli_ids=(), unitary_matrix=()), QuantumGate(name='CNOT', target_indices=(1,), control_indices=(2,), classical_indices=(), params=(), pauli_ids=(), unitary_matrix=()), QuantumGate(name='PauliRotation', target_indices=(0, 1, 2), control_indices=(), classical_indices=(), params=(1.0471975511965976,), pauli_ids=(1, 2, 3), unitary_matrix=()), QuantumGate(name='Y', target_indices=(1,), control_indices=(), classical_indices=(), params=(), pauli_ids=(), unitary_matrix=()), QuantumGate(name='H', target_indices=(2,), control_indices=(), classical_indices=(), params=(), pauli_ids=(), unitary_matrix=()))\n",
            "Extended circuit: (QuantumGate(name='Y', target_indices=(1,), control_indices=(), classical_indices=(), params=(), pauli_ids=(), unitary_matrix=()), QuantumGate(name='H', target_indices=(2,), control_indices=(), classical_indices=(), params=(), pauli_ids=(), unitary_matrix=()), QuantumGate(name='X', target_indices=(0,), control_indices=(), classical_indices=(), params=(), pauli_ids=(), unitary_matrix=()), QuantumGate(name='X', target_indices=(0,), control_indices=(), classical_indices=(), params=(), pauli_ids=(), unitary_matrix=()), QuantumGate(name='RX', target_indices=(1,), control_indices=(), classical_indices=(), params=(1.0471975511965976,), pauli_ids=(), unitary_matrix=()), QuantumGate(name='CNOT', target_indices=(1,), control_indices=(2,), classical_indices=(), params=(), pauli_ids=(), unitary_matrix=()), QuantumGate(name='PauliRotation', target_indices=(0, 1, 2), control_indices=(), classical_indices=(), params=(1.0471975511965976,), pauli_ids=(1, 2, 3), unitary_matrix=()))\n"
          ]
        }
      ]
    },
    {
      "cell_type": "markdown",
      "source": [
        "## 回路の変換\n",
        "\n",
        "QURI Partsで作成した回路は、バックエンドのシミュレータや実機の回路に変換することができます。例えばQulacsの回路を直接使用したい場合には、`quri_parts.qulacs.circuit.convert_circuit`関数が利用できます。"
      ],
      "metadata": {
        "id": "oGOuS0fLh-UA"
      }
    },
    {
      "cell_type": "code",
      "source": [
        "from quri_parts.qulacs.circuit import convert_circuit\n",
        "qulacs_circuit = convert_circuit(circuit)\n",
        "print(qulacs_circuit)\n",
        "\n",
        "import qulacs\n",
        "qulacs_state = qulacs.QuantumState(3)\n",
        "qulacs_circuit.update_quantum_state(qulacs_state)\n",
        "print(qulacs_state)"
      ],
      "metadata": {
        "id": "B13CNM5dh78_",
        "colab": {
          "base_uri": "https://localhost:8080/"
        },
        "outputId": "f3d48cfd-cb21-4357-f1cc-a5b174432e63"
      },
      "execution_count": null,
      "outputs": [
        {
          "output_type": "stream",
          "name": "stdout",
          "text": [
            "*** Quantum Circuit Info ***\n",
            "# of qubit: 3\n",
            "# of step : 3\n",
            "# of gate : 5\n",
            "# of 1 qubit gate: 3\n",
            "# of 2 qubit gate: 1\n",
            "# of 3 qubit gate: 1\n",
            "Clifford  : no\n",
            "Gaussian  : no\n",
            "\n",
            "\n",
            " *** Quantum State ***\n",
            " * Qubit Count : 3\n",
            " * Dimension   : 8\n",
            " * State vector : \n",
            "     (0.75,0)\n",
            "     (0,0.25)\n",
            "(0,-0.433013)\n",
            " (0.433013,0)\n",
            "        (0,0)\n",
            "        (0,0)\n",
            "        (0,0)\n",
            "        (0,0)\n",
            "\n"
          ]
        }
      ]
    },
    {
      "cell_type": "markdown",
      "source": [
        "こうした変換用の関数はバックエンドごとに用意されており、基本的には`quri_parts.[SDK].circuit.convert_circuit`に置かれています。"
      ],
      "metadata": {
        "id": "M4CLpb4BiCiR"
      }
    },
    {
      "cell_type": "markdown",
      "source": [
        "## Parametric回路\n",
        "\n",
        "変分アルゴリズム等のいくつかの量子アルゴリズムでは、パラメータを持つ量子回路が重要な役割を果たしています。QURI Partsではそうした回路を扱う特別な方法を用意することで、アルゴリズムの処理を効率化しています。\n",
        "\n",
        "### Parameter\n",
        "\n",
        "束縛されていないパラメータは、`quri_parts.circuit.Parameter`クラスで表現されています。`Parameter`オブジェクトはプレースホルダとして機能し、特定の値は保持しません。`Parameter`オブジェクトは、Pythonのオブジェクトの固有識別子によって区別されるため、同じ名前の`Parameter`オブジェクトであっても、別の変数として扱われます。"
      ],
      "metadata": {
        "id": "PYzlL-kqiEyH"
      }
    },
    {
      "cell_type": "code",
      "source": [
        "from quri_parts.circuit import Parameter, CONST\n",
        "\n",
        "phi = Parameter(\"phi\")\n",
        "psi1 = Parameter(\"psi\")\n",
        "psi2 = Parameter(\"psi\")\n",
        "\n",
        "# CONSTは定数を意味する定義済みのパラメータ\n",
        "print(phi, psi1, psi2, CONST)\n",
        "print(\"phi == psi1:\", phi == psi1)\n",
        "print(\"psi1 == psi2:\", psi1 == psi2)\n",
        "print(\"phi == CONST:\", phi == CONST)"
      ],
      "metadata": {
        "id": "wOx2oEZJiASj",
        "colab": {
          "base_uri": "https://localhost:8080/"
        },
        "outputId": "fc1bdc1e-7d7e-41db-e753-a3becbe9fad9"
      },
      "execution_count": null,
      "outputs": [
        {
          "output_type": "stream",
          "name": "stdout",
          "text": [
            "Parameter(name=phi) Parameter(name=psi) Parameter(name=psi) Parameter(name=)\n",
            "phi == psi1: False\n",
            "psi1 == psi2: False\n",
            "phi == CONST: False\n"
          ]
        }
      ]
    },
    {
      "cell_type": "markdown",
      "source": [
        "`Parameter`オブジェクトは、parametric回路の中で自動的に処理されるため、通常はユーザが直接扱う必要はありません。\n",
        "\n",
        "### Unbound parametric回路\n",
        "\n",
        "Unbound parametric回路には幾つかの種類がありますが、まずは共通の使用方法を説明します。"
      ],
      "metadata": {
        "id": "cDCg3e1PiJWL"
      }
    },
    {
      "cell_type": "code",
      "source": [
        "# ここではunbound parametric回路を作成する1つの方法を示しています\n",
        "# 詳細は後のセクションで解説されます\n",
        "from quri_parts.circuit import UnboundParametricQuantumCircuit\n",
        "parametric_circuit = UnboundParametricQuantumCircuit(3)\n",
        "parametric_circuit.add_H_gate(0)\n",
        "parametric_circuit.add_CNOT_gate(0, 1)\n",
        "param1 = parametric_circuit.add_ParametricRX_gate(0)\n",
        "param2 = parametric_circuit.add_ParametricRZ_gate(1)"
      ],
      "metadata": {
        "id": "jJWW4tEQiGj5"
      },
      "execution_count": null,
      "outputs": []
    },
    {
      "cell_type": "markdown",
      "source": [
        "Unbound parametric回路オブジェクトは通常の回路と共通の幾つかのプロパティを持っています。"
      ],
      "metadata": {
        "id": "IWidSKPSiNO1"
      }
    },
    {
      "cell_type": "code",
      "source": [
        "print(\"Qubit count:\", parametric_circuit.qubit_count)\n",
        "print(\"Circuit depth:\", parametric_circuit.depth)\n",
        "\n",
        "print(\"gates:\")\n",
        "# .gatesプロパティは回路に含まれるゲートのSequenceを返します\n",
        "for gate in parametric_circuit.gates:\n",
        "    print(gate)\n",
        "\n",
        "print(\"Parameter count:\", parametric_circuit.parameter_count)\n",
        "\n",
        "# QuantumCircuitと同じように通常のゲートを追加することもできます\n",
        "parametric_circuit.add_X_gate(1)\n",
        "print(\"Circuit depth:\", parametric_circuit.depth)"
      ],
      "metadata": {
        "id": "ik1G3NbSiLKt",
        "colab": {
          "base_uri": "https://localhost:8080/"
        },
        "outputId": "682f27b4-46c7-4f18-ab69-73d815f1af86"
      },
      "execution_count": null,
      "outputs": [
        {
          "output_type": "stream",
          "name": "stdout",
          "text": [
            "Qubit count: 3\n",
            "Circuit depth: 3\n",
            "gates:\n",
            "QuantumGate(name='H', target_indices=(0,), control_indices=(), classical_indices=(), params=(), pauli_ids=(), unitary_matrix=())\n",
            "QuantumGate(name='CNOT', target_indices=(1,), control_indices=(0,), classical_indices=(), params=(), pauli_ids=(), unitary_matrix=())\n",
            "ParametricQuantumGate(name='ParametricRX', target_indices=(0,), control_indices=(), pauli_ids=())\n",
            "ParametricQuantumGate(name='ParametricRZ', target_indices=(1,), control_indices=(), pauli_ids=())\n",
            "Parameter count: 2\n",
            "Circuit depth: 4\n"
          ]
        }
      ]
    },
    {
      "cell_type": "markdown",
      "source": [
        "`.bind_parameters`メソッドを使うことで、特定の値をparametric回路に束縛できます。このメソッドはオリジナルの回路を変更することはなく、新しく作成された回路オブジェクトを返します。"
      ],
      "metadata": {
        "id": "mwAqF8FbiV4N"
      }
    },
    {
      "cell_type": "code",
      "source": [
        "bound_circuit = parametric_circuit.bind_parameters([0.2, 0.3])\n",
        "# bound_circuitは通常の回路の不変なバージョンで、.gatesプロパティを持ちます\n",
        "for gate in bound_circuit.gates:\n",
        "    print(gate)"
      ],
      "metadata": {
        "id": "XA2fTaebiT6N",
        "colab": {
          "base_uri": "https://localhost:8080/"
        },
        "outputId": "d1a44a33-67b6-443c-8ef9-088b24cc4f3d"
      },
      "execution_count": null,
      "outputs": [
        {
          "output_type": "stream",
          "name": "stdout",
          "text": [
            "QuantumGate(name='H', target_indices=(0,), control_indices=(), classical_indices=(), params=(), pauli_ids=(), unitary_matrix=())\n",
            "QuantumGate(name='CNOT', target_indices=(1,), control_indices=(0,), classical_indices=(), params=(), pauli_ids=(), unitary_matrix=())\n",
            "QuantumGate(name='RX', target_indices=(0,), control_indices=(), classical_indices=(), params=(0.2,), pauli_ids=(), unitary_matrix=())\n",
            "QuantumGate(name='RZ', target_indices=(1,), control_indices=(), classical_indices=(), params=(0.3,), pauli_ids=(), unitary_matrix=())\n",
            "QuantumGate(name='X', target_indices=(1,), control_indices=(), classical_indices=(), params=(), pauli_ids=(), unitary_matrix=())\n"
          ]
        }
      ]
    },
    {
      "cell_type": "markdown",
      "source": [
        "### UnboundParametricQuantumCircuitとLinearMappedUnboundParametricQuantumCircuit\n",
        "\n",
        "いまのところ、QURI Partsは2種類のparametric回路: `UnboundParametricQuantumCircuit`と`LinearMappedUnboundParametricQuantumCircuit`を提供しています。\n",
        "\n",
        "`UnboundParametricQuantumCircuit`は、各パラメータが独立に変化する回路を表現しています。以下のようにパラメトリックゲートを追加することができます。"
      ],
      "metadata": {
        "id": "ZboO-60cia0H"
      }
    },
    {
      "cell_type": "code",
      "source": [
        "from quri_parts.circuit import UnboundParametricQuantumCircuit\n",
        "parametric_circuit = UnboundParametricQuantumCircuit(3)\n",
        "parametric_circuit.add_H_gate(0)\n",
        "parametric_circuit.add_CNOT_gate(0, 1)\n",
        "theta = parametric_circuit.add_ParametricRX_gate(0)\n",
        "phi = parametric_circuit.add_ParametricRZ_gate(1)\n",
        "print(\"theta == phi:\", theta == phi)"
      ],
      "metadata": {
        "id": "sqpgnE8LiX2K",
        "colab": {
          "base_uri": "https://localhost:8080/"
        },
        "outputId": "1d64cecc-904b-4f34-dfcb-739898b004f0"
      },
      "execution_count": null,
      "outputs": [
        {
          "output_type": "stream",
          "name": "stdout",
          "text": [
            "theta == phi: False\n"
          ]
        }
      ]
    },
    {
      "cell_type": "markdown",
      "source": [
        "パラメトリックゲートは、`.add_Parametric{}_gate`というメソッドで追加でき、(ここでは、{}には具体的なゲート名が入ります。) 新しく作成されたパラメータが返ります。ここでは、$[H_0,CNOT_{0,1},RX(\\theta)_0,RZ(\\phi)_1]$という回路が作成されています。$\\theta$と$\\phi$は独立に変化するパラメータで、独立に束縛することができます。"
      ],
      "metadata": {
        "id": "uHoxHJ5diewF"
      }
    },
    {
      "cell_type": "markdown",
      "source": [],
      "metadata": {
        "id": "H25TS5DQcjYz"
      }
    },
    {
      "cell_type": "code",
      "source": [
        "bound_circuit = parametric_circuit.bind_parameters([0.2, 0.3])\n",
        "for gate in bound_circuit.gates:\n",
        "    print(gate)"
      ],
      "metadata": {
        "id": "H2JauY9QicsR",
        "colab": {
          "base_uri": "https://localhost:8080/"
        },
        "outputId": "15534487-ac2e-49b6-f657-e90a8e5e1bfb"
      },
      "execution_count": null,
      "outputs": [
        {
          "output_type": "stream",
          "name": "stdout",
          "text": [
            "QuantumGate(name='H', target_indices=(0,), control_indices=(), classical_indices=(), params=(), pauli_ids=(), unitary_matrix=())\n",
            "QuantumGate(name='CNOT', target_indices=(1,), control_indices=(0,), classical_indices=(), params=(), pauli_ids=(), unitary_matrix=())\n",
            "QuantumGate(name='RX', target_indices=(0,), control_indices=(), classical_indices=(), params=(0.2,), pauli_ids=(), unitary_matrix=())\n",
            "QuantumGate(name='RZ', target_indices=(1,), control_indices=(), classical_indices=(), params=(0.3,), pauli_ids=(), unitary_matrix=())\n"
          ]
        }
      ]
    },
    {
      "cell_type": "markdown",
      "source": [
        "一方で、複数のパラメトリックゲートに対して、同一のパラメータから計算された値を適用したい場合がよくあります。`LinearMappedUnboundParametricQuantumCircuit`はこうしたケースをサポートしています。(ただし線型の変換のみに対応しています。) 例えば、以下のような独立パラメータ$\\theta$、$\\phi$を持つ回路を考えてみましょう。\n",
        "\n",
        "$[H_0,CNOT_{0,1},RX(\\theta/2 + \\phi/3 + \\pi/2)_0,RZ(\\theta/3 - \\phi/2 -\\pi/2)_1]$\n",
        "\n",
        "この回路は以下のように作成できます。"
      ],
      "metadata": {
        "id": "ABSwKc6zii7-"
      }
    },
    {
      "cell_type": "code",
      "source": [
        "from math import pi\n",
        "from quri_parts.circuit import LinearMappedUnboundParametricQuantumCircuit, CONST\n",
        "\n",
        "linear_param_circuit = LinearMappedUnboundParametricQuantumCircuit(2)\n",
        "linear_param_circuit.add_H_gate(0)\n",
        "linear_param_circuit.add_CNOT_gate(0, 1)\n",
        "\n",
        "theta, phi = linear_param_circuit.add_parameters(\"theta\", \"phi\")\n",
        "linear_param_circuit.add_ParametricRX_gate(0, {theta: 1/2, phi: 1/3, CONST: pi/2})\n",
        "linear_param_circuit.add_ParametricRZ_gate(1, {theta: 1/3, phi: -1/2, CONST: -pi/2})"
      ],
      "metadata": {
        "id": "AKRRs4sBig2T"
      },
      "execution_count": null,
      "outputs": []
    },
    {
      "cell_type": "markdown",
      "source": [
        "`LinearMappedUnboundParametricQuantumCircuit`にパラメトリックゲートを追加するには、まず`.add_parameters`メソッドで独立パラメータを追加します。次に各パラメトリックゲートの追加時に独立パラメータがキー、その係数が値となった辞書を渡します。定数項は`quri_parts.circuit.CONST`を使って表現できます。\n",
        "\n",
        "こうして作成された回路に対しては、2つのパラメータに対して2つの値を束縛できます。"
      ],
      "metadata": {
        "id": "Y7Jbe_X0incF"
      }
    },
    {
      "cell_type": "code",
      "source": [
        "bound_linear_circuit = linear_param_circuit.bind_parameters([0.2, 0.3])\n",
        "for gate in bound_linear_circuit.gates:\n",
        "    print(gate)"
      ],
      "metadata": {
        "id": "f3EK54nmik-w",
        "colab": {
          "base_uri": "https://localhost:8080/"
        },
        "outputId": "1b1a7a3f-712c-4472-ac15-2662bfa32d82"
      },
      "execution_count": null,
      "outputs": [
        {
          "output_type": "stream",
          "name": "stdout",
          "text": [
            "QuantumGate(name='H', target_indices=(0,), control_indices=(), classical_indices=(), params=(), pauli_ids=(), unitary_matrix=())\n",
            "QuantumGate(name='CNOT', target_indices=(1,), control_indices=(0,), classical_indices=(), params=(), pauli_ids=(), unitary_matrix=())\n",
            "QuantumGate(name='RX', target_indices=(0,), control_indices=(), classical_indices=(), params=(1.7707963267948965,), pauli_ids=(), unitary_matrix=())\n",
            "QuantumGate(name='RZ', target_indices=(1,), control_indices=(), classical_indices=(), params=(-1.6541296601282298,), pauli_ids=(), unitary_matrix=())\n"
          ]
        }
      ]
    },
    {
      "cell_type": "markdown",
      "source": [
        "## Exercise 1\n",
        "\n",
        "以下の回路は、第4章で扱うVQEというアルゴリズムで使われる、Symmetry Preserving Ansatzと呼ばれるパラメータ付きの状態準備回路の一部です。この回路をQURI Partsで作成してみてください。図中の$\\theta$と$\\phi$はパラメータです。"
      ],
      "metadata": {
        "id": "5c4-eZndir3T"
      }
    },
    {
      "cell_type": "markdown",
      "source": [
        "![symprsv_41.png](data:image/png;base64,iVBORw0KGgoAAAANSUhEUgAAA2gAAADICAYAAACd4sJOAAAAOXRFWHRTb2Z0d2FyZQBNYXRwbG90bGliIHZlcnNpb24zLjcuMSwgaHR0cHM6Ly9tYXRwbG90bGliLm9yZy/bCgiHAAAACXBIWXMAAA9hAAAPYQGoP6dpAAAjHklEQVR4nO3deXxU9b3/8fdMdrJAQoRAAgRIKGFJkFUQURS1yKYUVFRcfiralqJVwd4uV/t7tFpxq2ht5brVa6WpuBShdamALAKyBRAQSCRCQgJmYQsEssz94xRKJIFMMnPOdzKv5+PBA8ic5TOP851vznvOOd+vy+PxeAQAAAAAcJzb6QIAAAAAABYCGgAAAAAYgoAGAAAAAIYgoAEAAACAIQhoAAAAAGAIAhoAAAAAGIKABgAAAACGIKABAAAAgCEIaAAAAABgCAIaAAAAABiCgAYAAAAAhiCgAQAAAIAhCGgAAAAAYAgCGgAAAAAYgoAGAAAAAIYgoAEAAACAIQhoAAAAAGAIAhoAAAAAGIKABgAAAACGIKABAAAAgCEIaAAAAABgCAIaAAAAABiCgAYAAAAAhiCgAQAAAIAhCGgAAAAAYAgCGgAAAAAYgoAGAAAAAIYgoAEAAACAIQhoAAAAAGAIAhoAAAAAGIKABgAAAACGIKABAAAAgCEIaAAAAABgCAIaAAAAABiCgAYAAAAAhiCgAQAAAIAhCGgAAAAAYAgCGgAAAAAYgoAGAAAAAIYgoAEAAACAIQhoAAAAAGAIAhoAAAAAGIKABgAAAACGIKABAAAAgCEIaAAAAABgCAIaAAAAABiCgAYAAAAAhiCgAQAAAIAhCGgAAAAAYAgCGgAAAAAYgoAGAAAAAIYgoAEAAACAIQhoAAAAAGAIAhoAAAAAGIKABgAAAACGIKABAAAAgCEIaAAAAABgCAIaAAAAABgi1OkCgGBzslrad1DaWyoVHZJOVkkeSeGhUlJrqVOClBwvRYQ5XSkAAPClWo/07RGpoFQqKJeOnpBqa6UQtxQfbZ0DdEqQWrdyulI4iYAG2MDjkb4plVbulDZ+I1XXnnt5t0vK7CQN7yF1bye5XPbUCQAAfO/QcWlVrrRql/Xv80lJkIanS/1TrS9wEVxcHo/H43QRQEtWfEjKXi3tLmna+snx0g1DpM5tfVsXAADwrxNV0sIcaeUu6+qZt6LCpTFZ0rB068tbBAcCGuAnNbXSku3SPzdb/24Ot0u6opd0dV8pNMQ39QEAAP/ZtV/662qp9Gjzt5XeXrrxIqltTPO3BfMR0AA/qK6R3lgpbd7r2+2mt5fuvFSK5Pk0AACMtTpPyl5jPeLgK9ER0r0jpU7cUdPiEdAAH6uplV5dJm0t9M/2u7eT7hnJPekAAJhodZ515cwfIsOk6aOsZ9TQcjHMPuBjCzb6L5xJUt4B61s5AABgFn//jq6skuYulSpO+G8fcB7fwQM+lHdAWvaVd+s88H0pLko6fFx65sPGrbM+X8rqbI30CAAAnHeyWpq3yrvbGptyDnD4uPTuOmnqxU2rE+bjChocUVJSolmzZiktLU2RkZHq1KmT7rvvPlVUVOjOO++Uy+XSCy+84HSZXjndMXu5XlyU1KaV9bc33v5COsY3aAAAGGHRJqnEywFBmnoOsD5f+rLAu3UQOLiCBtvl5ORo9OjRKi4uVnR0tHr16qV9+/Zpzpw5ysvLU1lZmSSpX79+zhbqpQ353nfMzXGk0ppT5Yre9u0TAHzh4DGr/9qQb10NCHFLibHS0DRr3qcIzk4QYI5WSit22rvPj7ZIvZOZK7UloguErUpKSjRu3DgVFxfrwQcf1COPPKLY2FhJ0uzZs/Xwww8rNDRULpdLmZmZDlfbeB6P/R2zJH2eK43MkNxcCwcQAGo90j83SZ9uO3tOqD2l1p+/b5BuHir15RZuBJDVec2fUsdbe8usz0yXRHv3C//jtA62mjFjhgoKCjR9+nQ99dRTp8OZJM2aNUtZWVmqrq5Wamqq4uLiHKzUO3vLpIJy+/dbelTaUWz/fgHAWx6P9N466ZOt556wt7LKGgk35xv7agOaw+Oxrgg7YeUuZ/YL/yKgwTbbt29Xdna2EhMT9fjjj9e7zIABAyRJWVlZdX6+e/dujR8/XrGxsYqPj9ett96q0tJSv9fcWLn7g3PfANBYOXuk5Y2808Aj6c3PpfIKv5YE+MTBY76ZjLop8g44s1/4FwENtpk3b55qa2t18803KyYmpt5loqKsp2TPDGhHjhzRyJEjVVBQoHnz5mnu3Llavny5xo4dq9pam+8naMDesuDcNwA0lrcj3FbXOndVAvCGk7+HS48yYFhLxDNosM3ixYslSSNHjmxwmYICa0iiMwPa3LlzVVhYqGXLlqlz586SpJSUFA0bNkwLFizQtdde67+iG6nQgdsbTykgoAEw3L5yaXeJ9+utypWu7msNIgKYyunfwwXlUo8kZ2uAb7k8Hm9mawCarlOnTiooKNDGjRvrHaGxurpaHTp0UElJifLy8tStWzdJ/wl0S5YsqbN89+7dddlll+mVV17xupaBAwequNh3D2+N++/NiohOqPe1U3OcNCQu0hrko7ZWOlzZ8HLnmiNl/sMpXlQLAPbqMmCyBl3/bJPWXfT4YB0/uM/HFQG+c+G1j6n70Fvrfc1X5wBSw+cBq/9yrwo2L/Si4vNLSkrSunXrfLpNNB5X0GCbigrrYYLjx4/X+3p2drZKSkoUGxurrl27nv75tm3bNHny5LOW7927t7Zt29akWoqLi1VYWNikdevX8Ne7p+Y4Oe8W3I1brj5FxftVW1PdtJUBwM8Sep7nzPMcSssOq7zIl/014Fs9Kxu+x9COc4CDh474+JwGTiOgwTZJSUkqLy/Xhg0bNHTo0DqvFRUVaebMmZKkzMxMuc6Y1KO8vFxt2rQ5a3sJCQnasWNHk2vxJU9tVYOvHa4/j57mzRW0+vddqw5J7RtRJQA4o1WE9xM1eTweuVwuxcdFqpU72Q9VAb4RGRHW4Gu+Ogc417Zax0YrOdm3nxFfnyfBOwQ02GbUqFHavn27nnjiCV155ZXq0aOHJGnt2rWaOnWqSkqsBxTsmKDa15ftn/nQmoukodfO5dHrrG/NDldKj77n/b4T49ynn90DABMd/Xf/Vu3FuE4ul0ud20p5X+X4rS7AF5Zst+bvq4+/zwEkaf5bc9Wp/qcsEKB47Ba2mTVrltq2bau9e/eqd+/e6tu3r9LT0zV48GB169ZNl19+uaSzh9iPj4/XwYMHz9peWVmZEhLM6JGc7BjplAGYLiZSurCL9+tdnO77WgBfS3Hw93CIW+rQ2rn9wz8IaLBNSkqKli9frjFjxigyMlL5+flKSEjQSy+9pEWLFmnnTmuCnO8GtIyMjHqfNdu2bZsyMjJsqf18nAxJTv5iAIDGuryXFBbS+OXbxTUt1AF2S4l3bt8d20ihXnyuEBgIaLBVRkaGFi5cqCNHjujIkSNas2aNpk2bpoqKCuXn58vtdqtPnz511hk7dqxWrFhR5za+NWvWKC8vT+PGjbP7LdQro6Pk9v4RC5/oywCOAAJAhzbSHZc07mQyIVq6Z6QUzoMYCABR4VK6Q4+C9+EcoEUioMEIW7dulcfjUXp6ulq1qjuM0bRp09ShQwdNmDBBCxcu1Pz58zVlyhQNHjxYEyZMcKjiulq3kjI72b/f9PZSe25tABAgeiVL00dJaQ2czIa4pQGp0v1XS21jbC0NaJaLe9i/T7dLuijN/v3C//huCkbYsmWLpLNvb5SkuLg4LV68WPfdd59uvPFGhYaGauzYsXr22WfldpvzHcPwHlLOHvv3CQCBJDXRCmlFB6UN+dLSr6SqGikyVPrFBCk20ukKAe/1TZFaR0mHzjNqoy9ldbb2iZaHgAYjnCugSdak1AsX+nYSRl/r3s66irZ5r3376+vAVTsA8IUObaQx/aQvvrZOaiPCCGcIXCFuaUJ/6Y2V9uwvPEQaU/8pE1oAcy4/IKidL6AFApdLmjxIio7w/77CQ6QpFzn33BsAAKjrwi72Pe4w7kIpMdaefcF+XEGDERYvXux0CT4RGyXdMER6bZnkaeQ6pyaePN9klmeaOJCOGQAAk5z6onZPqXTwWOPWaco5QEZHZ555g31cHo+nseeRABppVa6UvcY/2x7bTxrV2z/bBgC7PfKudYtj6yjp1xOdrgZovgOHpRc+sSaf9rVuF0j3XC5FcImlReMWR8APhqZJNw+17kn3FbdLum4A4QwAAJO1i5N+cpWU6OORSHt1lO4lnAUFDjHgJ4O6SZ3aSm+tsm53aI6k1tJNQ6XObX1TGwAA8J8LYqWZ10gf5EgrdjZvWxGh0vgLpWHp1m2UaPkIaIAfJbWW7rvK6pw/+0oqq/Bu/dZR1lD6IzMaN7krAAAwQ0SYNGmQNRz+x1ukXfu9Wz/ELV3YWRqdxbyAwYaABvhZiFu6tKd0SQ/pqyJrSOlvSqTyBh4gbh1lXXkb1FXqk+Lb2yQBAIC90ttbf4oPWc+o79ovFR+UausZBSI8VEqJtyZ1v6i7FMPUE0GJgAbYxO22Otxeydb/j1ZaE7W+tlw6dlKKDpdmjWXSSQAAWqKk1taz5JI1OXvRQelPi61zgFbh0oyrpHax1vkCghsBDXBITKSUniSF/fvWxdAQwhkAAMEgLMR6rvzUOUBYiBXgAIlRHAEAAADAGAQ0AAAAADAEAQ0AAAAADEFAAwAAAABDENAAAAAAwBAENAAAAAAwBAENAAAAAAxBQAMAAAAAQxDQAAAAAMAQBDQAAAAAMAQBDQAAAAAMQUADAAAAAEMQ0AAAAADAEAQ0AAAAADAEAQ0AAAAADEFAAwAAAABDENAAAAAAwBAENAAAAAAwBAENAAAAAAxBQAMAAAAAQxDQAAAAAMAQBDQAAAAAMAQBDQAAAAAMQUADAAAAAEOEOl0AgODl8Ui1VU5XYQ53mORyOV2F73Gcm6eltotAE4jt2JdtJ9jfP2AnAhoAx9RWSUvmOF2FOUbOkELCna7C9zjOzdNS20WgCcR27Mu2E+zvH7ATtzgCAAAAgCEIaAAAAABgCAIaAAAAABiCgAYAAAAAhmCQEAAAYKsjldLeUunAEany3yMDnqiWvj4gJcdLEWHO1gcATiKgAQAAvys9Kn2+S9qQL5UfO/v1yippzieSS1LHeGlId2lQVymKUfgABBkCGoAWbVPeUj30p5F1fhYZHq2UC3poVP+puvbinygkhK6wpeL4O6/0qPTeemlrgeRpxPIeSYXl0rvrpIU50rA0aXSWFBGghynY22Cwv3+gKfhEAAgKI/tN0eCe18gjj8qPFOuT9W/oTx88oD0Htuunk+Y6XR78jONvv1qPdcVswUbpZHXTtnGyWlr6lbSlQJpykZTW3rc12inY22Cwv3/AGwQ0AEEhPbm/Rg245fT/xw37ke6c3VP//OJl3fH936pNzAUOVgd/4/jbq7pGevNzKWePb7ZXelR64V/Stf2lyzJ8s027BXsbDPb3D3iDURwBBKWo8Gj17HKRPB6P9pXmOV0ObMbx95+aWum15b4LZ2d6f4P0r62+364Tgr0NBvv7B86FgAYgaBX9+6QgrlWCw5XACRx//5i/Vtpa6L/tL8yR1uf7b/t2CvY2GOzvH2gItzgCCAqVVcd0qKJEHo/1/MMHq/6k3MKN6tlpsFIu6OF0efAzjr89thVKq3K9W+eB70txUdLh49IzHzZunflrpbR2UutW3tfolGBvg8H+/gFvENDgmJKSEs2ePVvvvvuuCgoKdMEFF2jixIl67LHHNGPGDL366qt6/vnnNX36dKdLRQvwxseP6I2PH6nzs+F9Juon1/3BoYpgJ46//x07KWWv8X69uCipjZdB6/hJ6W9fSHddKrlc3u/TCcHeBoP9/QPeIKDBETk5ORo9erSKi4sVHR2tXr16ad++fZozZ47y8vJUVlYmSerXr5+zhfqJxyPtLJa++Fo6esL62bGT1jDUGR0lNzcf+9yYIdM0InOyqmurtLtoi7KXPqGSQwUKD4s8vcyWr5fr56+MPmvd6pqTqq2t0Ueza+wsGT7UmOP/2zdvVK2nVr+a+rfTPzt8rEx3P9Vb08Y+pSv63+xE6QFjxU7p0HH79re1UMovkboGyNgSwd4G6YPrKjlijXJ66hyg4oQ1YungblIr5v4LegQ02K6kpETjxo1TcXGxHnzwQT3yyCOKjY2VJM2ePVsPP/ywQkND5XK5lJmZ6XC1vpd3QPrraunbI3V/XlUj/c9nUny0NHmQ1CvZmfpaquTEdPXvMUqSNLjnaPXpOlw/fXG4nnvnXv3ilr9Kkvp2u0Qf/PZonfVKDu3Tj+cM1IRhXMkNZI05/j+Z+KKmPd1XizfO0+UXTpEkPf/ej9W76/CAPjG2Q02tdbJptxU7AyegBXsbpA+2VJyQ5q0+e17A6lrp/fXSohxpxPekMVl8WRvMOPSw3YwZM1RQUKDp06frqaeeOh3OJGnWrFnKyspSdXW1UlNTFRcX52Clvrd9n/Tip2eHszOVV0j/s1TakG9XVcGpd+owjeo/VUs3ZWtr/uf1LnOy+oR+/cZE9Ukdrpuu+LnNFcKf6jv+ca0S9ODkV/TC+9NVcmiflm2er815S3X/xD85XK35thVKB4/Zv9+cPdLRSvv36wvB3gaDsQ8+Wik997H05Tkmba+qkT7dJv3v59ZcgghOBDTYavv27crOzlZiYqIef/zxepcZMGCAJCkrK+v0z04FusGDBysiIkKuQHno4AxlR6XXl1vfNJ+PR9JfVkn7yv1eVlC7edSv5HaH6M8f/Xe9rz/3zr06WVWpmTe8bm9hsEV9x39Qz+/r0szr9cS8W/T8uz/SA5NfVlx0WwerDAxfFTmz35paKXe/M/v2hWBvg8HWB/95hXTgcOOW3fiN9K8v/VsPzEVAg63mzZun2tpa3XzzzYqJial3maioKEl1A1pubq7eeecdJSUladCgQbbU6msrd0knqhu/fE2ttGyH/+qBlJyYppFZN2pj7qfa8vXyOq+9t2KO1mxfqF/f/r4iwwNoqDg0WkPHf9q4p1RYmqtBPUdrSMYYBysMHHvLgnPfzRXsbTCY+uA9pdIuL79M+GyHNek7gg8BDbZavHixJGnkyJENLlNQUCCpbkAbMWKEioqKtGDBAo0aNcq/RfpBVY20ugnzcK7Pl46d8Hk5OMOUK34ht8utP3/8n29wc3KX6OVFD+tXU99WUkKqc8XB7+o7/lHh0eqQ0E1dk/o6WFngqKl19mp/IAc0iTYYLH3wyiY8o1lxwj8TvsN8DBICW33zzTeSpC5dutT7enV1tVauXCmpbkBzB/iTssWHrI7WW1U10p4yqWcH39cULLK6X6ZPnmz4Rv4u7TPqjAxWXJav37x5ve4e+6Syul9mQ4XwJ2+PP7x3/KQ1wIFTDts4cmRTBHsbpA+2NPVW3Nz90sCuvq0F5iOgwVYVFRWSpOPH6/+Nmp2drZKSEsXGxqprV//1SAMHDlRxcbHftv9diV2H6LJ732nSurfdMU2FX/7DxxWZITw0SnOnOzD0WwMqTx7TI69fq6G9xuvai+0fMSy9R7pOVht+ttkEph3nQGN6u4iMS9LYX6xr8PVTE1E3JC7yP38/el3DyzU0kfWuvN1KSbmkkdU2XSC2Y1+2HTvev6/7YJM+O2N/uVGRsd4POfr2uwv00KQf+aGic0tKStK6dQ1/ruFfBDTYKikpSeXl5dqwYYOGDh1a57WioiLNnDlTkpSZmenXgUCKi4tVWFjot+1/18mw3U1et7gw39Za7RQZZtZzBcu3vKOvizapsGSnlm7KPuv1Vx7apnbxnf22/6J9+1RZ5cBQeH5m2nEONKa3i6jD5749oLETUbvd3k9YLUknjlfY0kcGYjv2Zdux4/37ug826bNTeexwkwLaofIDLfYcAA0joMFWo0aN0vbt2/XEE0/oyiuvVI8ePSRJa9eu1dSpU1VSUiLJ/xNUJyUl+XX73+X2HNKJo6WKiPFuJK7qk8flrixUcnLLnBQtPPQcX6s74MoBU3XlgKmO7b9Dx47GfNvrS6Yd58Z4+odLnS7hNNPbhcsdopqqSoWcMeHwmc53C2JcpBXOamulw+cYMr+h7dRUltnSR9rdjn3RBn3Zdux4/77ug0367JTvWas27bt7vV5F0SZHzgHsPk9CXQQ02GrWrFl66623tHfvXvXu3Vs9e/ZUZWWlcnNzNXr0aKWmpuqjjz6q8/yZPzhx2f6DjdbcJt4YnhGlF3Zt9U9BBqg5KS2Z43QV5ti1c5dCwp2uwvc4zs0TCO3imQ+tUeoaeu1cHr3OunJ2uFJ69D3v933ThBGa92iB9yt6KRDbsS/bTrC//+baWyo9fZ7PwndFR0jL//68QkOe909RMFZgj7yAgJOSkqLly5drzJgxioyMVH5+vhISEvTSSy9p0aJF2rlzpyT5PaA54eJ0KcKLr0RC3NKI7/mvHgDwlU4JwblvoLE6tZXS23u3zqXfk0JD/FMPzMYVNNguIyNDCxcuPOvnR48eVX5+vtxut/r06eNAZf6VECPdfon08mfnn6zaJenmoVLHeFtKA4Bm6dmhacOIN1eIW0rz8qQXcMptw6U5nzRusuoLu0ijWt6pEBqJgAZjbN26VR6PRz169FCrVmc/jDx//nxJ0rZt2+r8PzU1VQMHDrSv0GbI6Cj96Aope03DHXRCtDRpkNSrZT52BqAF6pVs3aZ40ObxGPp1lmLqf/QNME5MpHTfVdK81dLWAqm+yQfCQ6RLvieNyZLc/hsrDYYjoMEYW7ZskdTw7Y2TJ0+u9/+33XabXn/9db/W5kvd20n/NVbatV9akyeVVUjySK1bSYO6SRkdrAfmASBQhLilYenSPzbZu9/hPezdH9Bc0RHSXZdKJUekz3OtZ9NOVEtR4VKvjtZ5QCtDnpuDcwhoMMb5AprH0/BEl4HG5ZJ6JFl/4J0/vD9Dq7Yt0P7yb/TH+zcqLblfvcsVfLtLT2bfpkMVJYqObK2ZN7yu1KTekqy25HK59MbHj+qqgberfXwXv07rAASD4T2klTulQzYNmtc7WUpNtGdfgK8lxkrjL3S6CpiKgAZjnC+gAZJ0SeYkXX/ZLP30xeHnXO65d+7RNUOm6epBt2vZ5vl6Mvt2/eG+tZKsuXZ27F2rquoT2rH3C73+4S/1ownPKS7au2kQ4H/+DOR5+zbp2fl369iJI2rfposenvK/ahPj/TxFTbFs83yt2b5IR4+X65v92xQRFqU2Me00Y+IflZyYZksNvtYqXLphiDR3qf/3FRUuXT/Y+rLLKU61n2Wb52vjrk/1w/HP6rd/uTHg28+Df7xMM294XUkJqU6XAhiDgAZjLF682OkSEAAyu4047zLlRw9oZ8E6/e7ujyVJl/T9gV54b7oKS3KVnJimEZmT1D6+i2a9dIW+Ltqkx+78p8LDIvXphr9o1bYFSknsoU/Wv6H+6aN0/6S5CnE3fxito8cP6u6n++hE1XFd0LqTqmpOqLj0a10xYKoenPxys7ffUvkzkD+Zfbseuv41pSX304dfvKq5Cx/SrBv/bMfb0sov39OlmdcrJCRMg3uOlsvl0vsrX9Azb99l1Bxs3uqVLA1Nk1blNn6dU/ObnW++tDNNGmTdFu6kprQfX4SRlV++p1EDbpUkXTNkmlHtx199KP0ngg1PugBocb49uFcJcR0UEmJ9B+VyudQuvrMOHNwjSVq+5V0t2zxfVw26Q+OG/lDPzp+mkkOFeuH96brzmt9pyaa/6pdT/6bi8nx9vO51n9QUE9VGl/e7SROH36+XHsjRD8f/Xj27XMTJxXlkdhuhC9qknHOZU4F8VP9bJFmB/NuDe1VYYqWEEZmTNCJzkj5a+6o+WPVHPTD5ZR04uEdRETGnr8hdOfA2rdq2QFXVJ5td89HjBzXlNyma+Ehb3fNMP/2/JzN0zc8i9PTbd0mSqmuqtDV/pQZnXKMhGdecvr02o/NF2l+e3+z9O23SIOv2w8Z65kNr/rPzzZd2yth+0oDUplTmO7mFGx1pP6fazoVplys8LNKo9lNyaJ/f+lD6TwQbrqABMMaM54eqsKT+sbr/+NONatemk0/2M7zPdbqk70S98fGj+l6nwRqROVmrti5Q94791CGhq2pqqhQWEqFhvSfoy90rNHrwnT6pNXdfjq4bPkOStKtgvdI68gCCL5wrkCcnpmn5lnf11Z41umrQHeqTerGenT9Nw3pP0O6iLbrnmX6nt3Pi5DGVHC5Uh4Suzarn1MlkVESsbrnyV1q74yPNW/zY6ZPJnNwl6tVlmEJDwuqs996K5zS094Rm7dsEIW7pjkukNz+Xcvb4dtvX9pcuy/DtNpuiqGy3I+1n3Y6P6207kvPtZ+fetY3uQ5+Yd6u+LtosSdpXmqtfvHKNQv89o/Svb3+/3iuM9J8IJgQ0AMaY85NVPtnOBW06qexwkWpqqhUSEiqPx6MD5XvUrk1nSTr9jfOtVz16eh1XPUNnejwehbjr7yabUuvX+3KUlmydVOwqWK+hvcd7vY2WxMlAvuLL99Sz8xD97u6PTi836dH6nx/ydRj/fOv7urjPdXWWf+vTx7SvJFez7/nU6/dnotAQ6dbhUtouacFG6WR187bXNkaacpFZc541tv34MozU13YkM9qPN33ow1PeOP3vxt72Sf+JYEJAA9DixMe0U1pyf/1rw5u6etDtWr7lHSW2STnnw/M9Ow9RfvGXKi7LlyRV1ZzQZ5v+pomX3OeTmkoOFUoulxJbW/d+fV28WTdd8QufbDtQORnIOyR0O33LqyRVVB5W5ckKJcadfW+eL8O4x+PRuh0f6e4xs08v+/bSp7Tiy3c1e9q/FBnu8INVPuR2WSM7ZnSU3l8vfdnAvE/nEh4qDUuTRmdJEQadsXjTfnwVRuprO5I57ceffSj9J4INz6ABCCi/n3+PpvwmRd8eKtB/vXy1bvvdf0LX02/fpc+3LpAk3f+Dl7Ro9Uu6/Yke+uuS32nm9a+dc7vxMe30wORX9N+vjVfp4X167M0b1Sf1Yo3InHzO9Rort3BjnasoMZFttGDViz7ZdrA7M5BLalQgT0vup1B3mNbv/ESS9MHnL+rSrBsUFtr8CYjqO5nsmtRXkvTV3i/UuX2GoiJiJEnzP3tGS3Lm6Ym7P1FMVJtm79tEbWOkOy+VfjlBuqKXFH+eDOFyScnx0g8GSv9/onTtALPCmeRM+/lu25HMaj/+7EPpPxFsXJ6WNLkUgIBSc1JaMsfpKs52y2OpevS29xsc0t1fRs6QQlrgBKXNOc6/n3+P1ny1SGVHihXXqq1aRcTqzz+zBv94+u27NLTXeA3rPV57D+zQk9m36/CxUrWKjNPM619T1w59z7nt3UVb9OTf7lDF8YPq2DZNP7vpTbWObv7EWqu3LdTfV76gx++2Rr348XOD1K1jlh6c/LJe/sfP1LFtmq4Zcpe+PVigm37bSR0SuikqIlaSFB4aoednrKmzvZbYLo5WSnvLpP2HpapqK5RFhkkd20jJCeYFMunsdtyU9tOYK2gNtZ/W0Ymn246kRrUfX7Ydbz7HTvWh39USPzsIDgQ0AI4hoNXVUk8mTD3OTrjrqd568t4lio9p1+h1Wmq7CDROt2On2w4BDbCPgd9RAYCz3vx5vtMloIV6+aGtTpeAABVIbYc+FGgenkEDAAAAAEMQ0AAAAADAEAQ0AAAAADAEg4QAcIzHI9VWOV2FOdxh1mh2LQ3HuXlaarsINIHYjn3ZdoL9/QN2IqABAAAAgCG4xREAAAAADEFAAwAAAABDENAAAAAAwBAENAAAAAAwBAENAAAAAAxBQAMAAAAAQxDQAAAAAMAQBDQAAAAAMAQBDQAAAAAMQUADAAAAAEMQ0AAAAADAEAQ0AAAAADAEAQ0AAAAADEFAAwAAAABDENAAAAAAwBAENAAAAAAwBAENAAAAAAxBQAMAAAAAQxDQAAAAAMAQBDQAAAAAMAQBDQAAAAAMQUADAAAAAEMQ0AAAAADAEAQ0AAAAADAEAQ0AAAAADEFAAwAAAABDENAAAAAAwBAENAAAAAAwBAENAAAAAAxBQAMAAAAAQxDQAAAAAMAQBDQAAAAAMAQBDQAAAAAMQUADAAAAAEMQ0AAAAADAEAQ0AAAAADAEAQ0AAAAADPF/QICbnLhCUdgAAAAASUVORK5CYII=)"
      ],
      "metadata": {
        "id": "CSfUFmSEivM2"
      }
    },
    {
      "cell_type": "code",
      "source": [
        "circuit = LinearMappedUnboundParametricQuantumCircuit(2)\n",
        "\n",
        "theta, phi = circuit.add_parameters(\"theta\", \"phi\")\n",
        "\n",
        "circuit.add_CNOT_gate(1, 0)\n",
        "circuit.add_ParametricRZ_gate(1, {phi: -1, CONST: -pi})\n",
        "circuit.add_ParametricRY_gate(1, {theta: -1, CONST: -pi / 2})\n",
        "circuit.add_CNOT_gate(0, 1)\n",
        "circuit.add_ParametricRY_gate(1, {theta: 1, CONST: pi / 2})\n",
        "circuit.add_ParametricRZ_gate(1, {phi: 1, CONST: pi})\n",
        "circuit.add_CNOT_gate(1, 0)\n",
        "\n",
        "# QURI Partsには回路を図示するための関数、draw_circuitが用意されているので使って図示してみます。\n",
        "from quri_parts.circuit.utils.circuit_drawer import draw_circuit\n",
        "\n",
        "bound_circuit = circuit.bind_parameters([pi, pi])  # theta = pi, phi = piを入れてみます。\n",
        "draw_circuit(bound_circuit)"
      ],
      "metadata": {
        "id": "HJ7s6t6eon5R",
        "colab": {
          "base_uri": "https://localhost:8080/"
        },
        "outputId": "b9bcb294-4d13-4cfe-e627-09b1f7650688"
      },
      "execution_count": null,
      "outputs": [
        {
          "output_type": "stream",
          "name": "stdout",
          "text": [
            "   ___                                             ___  \n",
            "  |CX |                                           |CX | \n",
            "--|0  |---------------------●---------------------|6  |-\n",
            "  |___|                     |                     |___| \n",
            "    |      ___     ___     _|_     ___     ___      |   \n",
            "    |     |RZ |   |RY |   |CX |   |RY |   |RZ |     |   \n",
            "----●-----|1  |---|2  |---|3  |---|4  |---|5  |-----●---\n",
            "          |___|   |___|   |___|   |___|   |___|         \n"
          ]
        }
      ]
    },
    {
      "cell_type": "markdown",
      "source": [
        "# 第2章 演算子と期待値\n",
        "\n",
        "量子力学では物理量はエルミート演算子$\\hat{O}$で表され、オブザーバブル (観測量) と呼ばれます。ある状態 $|\\psi\\rangle$ について、$⟨ψ|\\hat{O}|ψ⟩$ によって期待値が計算できます。\n",
        "\n",
        "エルミート演算子はパウリ演算子の積の和で表現できるので、\n",
        "\n",
        "$$\\hat{O} = \\sum_i{a_i \\hat{P}_i}$$\n",
        "\n",
        "量子計算では各パウリ演算子の積 $\\hat{P}_i$ に対して測定を行い、係数 $a_i$ を掛けて足し合わせることで、目的の演算子の期待値を得ます。\n",
        "\n",
        "$$\\hat{O} = ⟨ψ|\\hat{O}|ψ⟩ = \\sum_i{a_i ⟨\\psi|\\hat{P}_i|\\psi⟩}$$\n",
        "\n",
        "この章ではQURI Partsを使って、演算子を表現し、期待値を推定する方法を紹介していきたいと思います。まずはパウリ演算子の積を指定するための、パウリラベルという表現を見ていきましょう。"
      ],
      "metadata": {
        "id": "S6XXBpyti2ws"
      }
    },
    {
      "cell_type": "markdown",
      "source": [
        "## パウリラベル\n",
        "\n",
        "パウリラベル (パウリ文字列) は、各量子ビットに作用する幾つかのパウリ行列の積を表現します。例えば、$X_0 Y_2 Z_4$は、量子ビット０に作用する$X$、量子ビット2に作用する$Y$、量子ビット4に作用する$Z$を意味しており、以下のように定義できます。"
      ],
      "metadata": {
        "id": "V3U_tGBfi90L"
      }
    },
    {
      "cell_type": "code",
      "source": [
        "from quri_parts.core.operator import pauli_label\n",
        "label = pauli_label(\"X0 Y2 Z4\")\n",
        "# パウリ名と量子ビット番号の間にスペースを入れることもできます\n",
        "label = pauli_label(\"X 0 Y 2 Z 4\")\n",
        "print(label)"
      ],
      "metadata": {
        "id": "uHVmHeQFixC0",
        "colab": {
          "base_uri": "https://localhost:8080/"
        },
        "outputId": "6b857bb6-33f1-41fb-9baa-519f1c0fdbea"
      },
      "execution_count": null,
      "outputs": [
        {
          "output_type": "stream",
          "name": "stdout",
          "text": [
            "X0 Y2 Z4\n"
          ]
        }
      ]
    },
    {
      "cell_type": "markdown",
      "source": [
        "`PAULI_IDENTITY`は0個のパウリ行列の作用を表現するPauliラベルです。"
      ],
      "metadata": {
        "id": "dHW-H8h-jCdj"
      }
    },
    {
      "cell_type": "code",
      "source": [
        "from quri_parts.core.operator import PAULI_IDENTITY\n",
        "print(PAULI_IDENTITY)"
      ],
      "metadata": {
        "id": "UHAE1exOi_0m",
        "colab": {
          "base_uri": "https://localhost:8080/"
        },
        "outputId": "35a4c6f2-0b64-4526-dd58-70c898ef5fd2"
      },
      "execution_count": null,
      "outputs": [
        {
          "output_type": "stream",
          "name": "stdout",
          "text": [
            "I\n"
          ]
        }
      ]
    },
    {
      "cell_type": "markdown",
      "source": [
        "パウリラベルは不変でハッシュ化可能なオブジェクトで、量子ビット番号と`SinglePauli`列挙型のペアからなり、イテレータで取り出すことができます。"
      ],
      "metadata": {
        "id": "1RIRE7DwjHKl"
      }
    },
    {
      "cell_type": "code",
      "source": [
        "for pair in label:\n",
        "    print(pair)"
      ],
      "metadata": {
        "id": "6U9GaiSTjE6M",
        "colab": {
          "base_uri": "https://localhost:8080/"
        },
        "outputId": "789432f9-5211-4c59-f30d-2d30c3c675ae"
      },
      "execution_count": null,
      "outputs": [
        {
          "output_type": "stream",
          "name": "stdout",
          "text": [
            "(0, <SinglePauli.X: 1>)\n",
            "(4, <SinglePauli.Z: 3>)\n",
            "(2, <SinglePauli.Y: 2>)\n"
          ]
        }
      ]
    },
    {
      "cell_type": "code",
      "source": [
        "for index, matrix in label:\n",
        "    print(f\"qubit index: {index}, Pauli matrix: {matrix}\")"
      ],
      "metadata": {
        "id": "30rfVMKrjJHH",
        "colab": {
          "base_uri": "https://localhost:8080/"
        },
        "outputId": "c0205933-9d10-45f7-ca1b-0cb40489e5f6"
      },
      "execution_count": null,
      "outputs": [
        {
          "output_type": "stream",
          "name": "stdout",
          "text": [
            "qubit index: 0, Pauli matrix: 1\n",
            "qubit index: 4, Pauli matrix: 3\n",
            "qubit index: 2, Pauli matrix: 2\n"
          ]
        }
      ]
    },
    {
      "cell_type": "markdown",
      "source": [
        "`SinglePauli`は`IntEnum`なので、`SinglePauli.X`、`SinglePauli.Y`、`SinglePauli.Z`の代わりに、1、2、3を使うこともできます。"
      ],
      "metadata": {
        "id": "4zpfaP2UjN2q"
      }
    },
    {
      "cell_type": "code",
      "source": [
        "from quri_parts.core.operator import SinglePauli\n",
        "print(SinglePauli.X == 1)\n",
        "print(SinglePauli.Y == 2)\n",
        "print(SinglePauli.Z == 3)"
      ],
      "metadata": {
        "id": "LOd11RwgjK1-",
        "colab": {
          "base_uri": "https://localhost:8080/"
        },
        "outputId": "866745e3-b0f1-4b42-d2e9-56af053d7294"
      },
      "execution_count": null,
      "outputs": [
        {
          "output_type": "stream",
          "name": "stdout",
          "text": [
            "True\n",
            "True\n",
            "True\n"
          ]
        }
      ]
    },
    {
      "cell_type": "markdown",
      "source": [
        "## 演算子\n",
        "\n",
        "演算子はパウリラベルとその係数で定義されます。例えば、$(0.5 + 0.5i) X_0 Y_1 + 0.2i Z_0 Z_2 + 0.3 + 0.4i$は、以下のように定義されます。"
      ],
      "metadata": {
        "id": "m1EQTnQajR_9"
      }
    },
    {
      "cell_type": "code",
      "source": [
        "from quri_parts.core.operator import Operator\n",
        "op = Operator({\n",
        "    pauli_label(\"X0 Y1\"): 0.5 + 0.5j,\n",
        "    pauli_label(\"Z0 Z2\"): 0.2j,\n",
        "    PAULI_IDENTITY: 0.3 + 0.4j,\n",
        "})\n",
        "print(op)"
      ],
      "metadata": {
        "id": "uVxAo3dNjP9L",
        "colab": {
          "base_uri": "https://localhost:8080/"
        },
        "outputId": "4445c3a6-ef55-4fd3-d15f-aa7c50cc137a"
      },
      "execution_count": null,
      "outputs": [
        {
          "output_type": "stream",
          "name": "stdout",
          "text": [
            "(0.5+0.5j)*X0 Y1 + 0.2j*Z0 Z2 + (0.3+0.4j)*I\n"
          ]
        }
      ]
    },
    {
      "cell_type": "markdown",
      "source": [
        "オペレータは、順番にパウリ項を追加することで作成することもできます。"
      ],
      "metadata": {
        "id": "1wraHjuijWsF"
      }
    },
    {
      "cell_type": "code",
      "source": [
        "op = Operator()\n",
        "op.add_term(pauli_label(\"X0 Y1\"), 0.5 + 0.5j)\n",
        "op.add_term(pauli_label(\"Z0 Z2\"), 0.2j)\n",
        "op.constant = 0.3 + 0.4j\n",
        "print(op)\n",
        "print(f\"Number of terms: {op.n_terms}\")\n",
        "\n",
        "# 既存の項に追加した場合、係数は加算されます\n",
        "op.add_term(pauli_label(\"X0 Y1\"), 0.5)\n",
        "print(op)\n",
        "print(f\"Number of terms: {op.n_terms}\")\n",
        "\n",
        "# 係数が0になった場合、項は削除されます\n",
        "op.add_term(pauli_label(\"X0 Y1\"), -1.0 - 0.5j)\n",
        "print(op)\n",
        "print(f\"Number of terms: {op.n_terms}\")"
      ],
      "metadata": {
        "id": "6K37XEAYjUbT",
        "colab": {
          "base_uri": "https://localhost:8080/"
        },
        "outputId": "dbd68960-58d3-40b9-fabd-84aca75fd0ad"
      },
      "execution_count": null,
      "outputs": [
        {
          "output_type": "stream",
          "name": "stdout",
          "text": [
            "(0.5+0.5j)*X0 Y1 + 0.2j*Z0 Z2 + (0.3+0.4j)*I\n",
            "Number of terms: 3\n",
            "(1+0.5j)*X0 Y1 + 0.2j*Z0 Z2 + (0.3+0.4j)*I\n",
            "Number of terms: 3\n",
            "0.2j*Z0 Z2 + (0.3+0.4j)*I\n",
            "Number of terms: 2\n"
          ]
        }
      ]
    },
    {
      "cell_type": "markdown",
      "source": [
        "内部的には`Operator`は`dict`なので、辞書として操作することもできます。"
      ],
      "metadata": {
        "id": "X0_fE-oLjfuZ"
      }
    },
    {
      "cell_type": "code",
      "source": [
        "p = pauli_label(\"Z0 Z2\")\n",
        "coef = op[p]\n",
        "print(f\"Coefficient of {p} = {coef}\")\n",
        "\n",
        "op[p] = 0.4\n",
        "coef = op[p]\n",
        "print(f\"Coefficient of {p} = {coef}\")\n",
        "\n",
        "for label, coef in op.items():\n",
        "    print(f\"Coefficient of {label} = {coef}\")"
      ],
      "metadata": {
        "id": "EIxryQeAjd0P",
        "colab": {
          "base_uri": "https://localhost:8080/"
        },
        "outputId": "d3001c29-7d98-473c-bdff-8df81453acee"
      },
      "execution_count": null,
      "outputs": [
        {
          "output_type": "stream",
          "name": "stdout",
          "text": [
            "Coefficient of Z0 Z2 = 0.2j\n",
            "Coefficient of Z0 Z2 = 0.4\n",
            "Coefficient of Z0 Z2 = 0.4\n",
            "Coefficient of I = (0.3+0.4j)\n"
          ]
        }
      ]
    },
    {
      "cell_type": "markdown",
      "source": [
        "以下にオペレータ関連の便利な機能をまとめます。"
      ],
      "metadata": {
        "id": "RIm7ZTehjb_2"
      }
    },
    {
      "cell_type": "code",
      "source": [
        "from quri_parts.core.operator import commutator, get_sparse_matrix, is_hermitian\n",
        "op1 =  Operator({pauli_label(\"X0 Z1\"): 8j})\n",
        "op2 =  Operator({pauli_label(\"Y1\"): -4})\n",
        "\n",
        "print(\"op1 = \", op1)\n",
        "print(\"op2 = \", op2)\n",
        "\n",
        "# 和\n",
        "print(\"\")\n",
        "print(\"op1 + op2\", \"=\", op1 + op2)\n",
        "\n",
        "# 差\n",
        "print(\"op1 - op2\", \"=\", op1 - op2)\n",
        "\n",
        "# スカラー倍\n",
        "print(\"op1 * 3j\", \"=\", op1 * 3j)\n",
        "print(\"op1 / 2j\", \"=\", op1 / 2j)\n",
        "\n",
        "# 積\n",
        "print(\"op1 * op2\", \"=\", op1 * op2)\n",
        "print(\"op2 * op1\", \"=\", op2 * op1)\n",
        "\n",
        "# エルミート共役\n",
        "print(\"\")\n",
        "print(\"op1^†\", \"=\", op1.hermitian_conjugated())\n",
        "print(\"op2^†\", \"=\", op2.hermitian_conjugated())\n",
        "\n",
        "# 交換子\n",
        "print(\"\")\n",
        "print(\"[op1, op2]\", \"=\", commutator(op1, op2))\n",
        "\n",
        "# エルミート演算子かどうかのチェック\n",
        "print(\"\")\n",
        "print(\"op1 == op1^†?\", is_hermitian(op1))\n",
        "\n",
        "# 疎行列の取得\n",
        "print(\"\")\n",
        "print(\"op2:\")\n",
        "print(get_sparse_matrix(op2))"
      ],
      "metadata": {
        "id": "mDY9_dhojZCy",
        "colab": {
          "base_uri": "https://localhost:8080/"
        },
        "outputId": "a4f2a3f8-500d-45e1-e593-793e14cbcb4f"
      },
      "execution_count": null,
      "outputs": [
        {
          "output_type": "stream",
          "name": "stdout",
          "text": [
            "op1 =  8j*X0 Z1\n",
            "op2 =  -4*Y1\n",
            "\n",
            "op1 + op2 = 8j*X0 Z1 + -4*Y1\n",
            "op1 - op2 = 8j*X0 Z1 + 4*Y1\n",
            "op1 * 3j = (-24+0j)*X0 Z1\n",
            "op1 / 2j = (4+0j)*X0 Z1\n",
            "op1 * op2 = (-32+0j)*X0 X1\n",
            "op2 * op1 = (32+0j)*X0 X1\n",
            "\n",
            "op1^† = -8j*X0 Z1\n",
            "op2^† = -4*Y1\n",
            "\n",
            "[op1, op2] = (-64+0j)*X0 X1\n",
            "\n",
            "op1 == op1^†? False\n",
            "\n",
            "op2:\n",
            "  (2, 0)\t(-0-4j)\n",
            "  (3, 1)\t(-0-4j)\n",
            "  (0, 2)\t4j\n",
            "  (1, 3)\t4j\n"
          ]
        }
      ]
    },
    {
      "cell_type": "markdown",
      "source": [
        "## 量子状態\n",
        "\n",
        "QURI Partsでは幾つかの種類の量子状態準備が可能です。まずは、最も基本的な計算基底について紹介しましょう。\n",
        "\n",
        "計算基底状態は、各量子ビットが0または1の固有状態であるような量子状態です。5量子ビットの計算基底状態を作ってみましょう。"
      ],
      "metadata": {
        "id": "tsPcYHiajlF2"
      }
    },
    {
      "cell_type": "code",
      "source": [
        "from quri_parts.core.state import quantum_state\n",
        "\n",
        "state1 = quantum_state(5, bits=0b10100)\n",
        "print(state1)"
      ],
      "metadata": {
        "id": "sVp3eCzmjh9U",
        "colab": {
          "base_uri": "https://localhost:8080/"
        },
        "outputId": "f0778cb5-ce07-40a1-b183-5531577bdd14"
      },
      "execution_count": null,
      "outputs": [
        {
          "output_type": "stream",
          "name": "stdout",
          "text": [
            "ComputationalBasisState(qubit_count=5, bits=0b10100, phase=0π/2)\n"
          ]
        }
      ]
    },
    {
      "cell_type": "markdown",
      "source": [
        "ここでは`bits=0b10100`は、量子ビット0が$|0\\rangle$、量子ビット1が$|0\\rangle$、量子ビット2が$|1\\rangle$、量子ビット3が$|0\\rangle$、量子ビット4が$|1\\rangle$の状態を意味します。インデックスは0始まりで、下位ビット側から上位ビット側の順で割り振られています。\n",
        "\n",
        "また、2つの状態の重ね合わせを作成することもできます。結果として得られる状態は、計算基底状態ではなくなることに注意してください。`comp_basis_superposition()`メソッドは4つの引数を取ります。最初の2つは重ね合わされる状態です。3つ目の引数$\\theta$は重ね合わせの重みで、4つ目の引数$\\phi$は重ね合わせの位相因子を意味します。2つの計算基底状態$\\left|s_0\\right\\rangle$と$\\left|s_1\\right\\rangle$の重ね合わせを式で表すと以下のようになります。\n",
        "\n",
        "$$\n",
        "\\left|\\psi\\right\\rangle = \\cos\\theta\\left|s_0\\right\\rangle + \\sin\\theta\\exp(i\\phi)\\left|s_1\\right\\rangle\n",
        "$$"
      ],
      "metadata": {
        "id": "aEYOHoTKjqOB"
      }
    },
    {
      "cell_type": "code",
      "source": [
        "import math\n",
        "from quri_parts.core.state import comp_basis_superposition\n",
        "\n",
        "state2 = quantum_state(5, bits=0b01011)\n",
        "sp_state = comp_basis_superposition(state1, state2, math.pi/2, math.pi/4)\n",
        "print(sp_state)"
      ],
      "metadata": {
        "id": "on-4UTuNjnKT",
        "colab": {
          "base_uri": "https://localhost:8080/"
        },
        "outputId": "2705c66a-5b3b-4ddd-a11c-7cc5d8062530"
      },
      "execution_count": null,
      "outputs": [
        {
          "output_type": "stream",
          "name": "stdout",
          "text": [
            "GeneralCircuitQuantumState(n_qubits=5, circuit=<quri_parts.circuit.circuit.ImmutableQuantumCircuit object at 0x7f7da8543160>)\n"
          ]
        }
      ]
    },
    {
      "cell_type": "markdown",
      "source": [
        "## Estimator\n",
        "\n",
        "あたえられた状態に対して演算子の期待値を計算するには、`QuantumEstimator`を使います。`QuantumEstimator` (`quri_parts.core.estimator`パッケージにあります。) 自体は抽象的なインタフェースなので、使用する際は適宜、具体的なインスタンスが必要です。`QuantumEstimator`のインタフェースは、状態ベクトルのシミュレーション、サンプリングのシミュレーション、実デバイスでのサンプリングなど様々な方法での期待値推定に共通して使用できます。"
      ],
      "metadata": {
        "id": "GaPuIiNPjuTO"
      }
    },
    {
      "cell_type": "code",
      "source": [
        "from quri_parts.qulacs.estimator import create_qulacs_vector_estimator\n",
        "# Estimatorを作成し\n",
        "estimator = create_qulacs_vector_estimator()\n",
        "# 演算子と状態を渡します\n",
        "estimate = estimator(op, sp_state)\n",
        "# 戻り値には推定された期待値と、誤差が含まれています\n",
        "print(f\"Estimated expectation value: {estimate.value}\")\n",
        "# (状態ベクトルのシミュレーションを行なった場合、誤差は0になります)\n",
        "print(f\"Estimation error: {estimate.error}\")"
      ],
      "metadata": {
        "id": "5ZZ5oni7jsK9",
        "colab": {
          "base_uri": "https://localhost:8080/"
        },
        "outputId": "8341ab18-4099-4eea-a02d-cfa83a62fbb0"
      },
      "execution_count": null,
      "outputs": [
        {
          "output_type": "stream",
          "name": "stdout",
          "text": [
            "Estimated expectation value: (-0.10000000000000003+0.4j)\n",
            "Estimation error: 0.0\n"
          ]
        }
      ]
    },
    {
      "cell_type": "markdown",
      "source": [
        "`QuantumEstimator`の戻り値には、期待値 (`.value`) と誤差 (`.error`) が含まれています。\n",
        "\n",
        "### さまざまなEstimator\n",
        "\n",
        "QURI Partsには通常のestimatorに加えて、以下のような種類のestimatorも用意されています。\n",
        "- `ParametricQuantumEstimator`\n",
        "- `ConcurrentQuantumEstimator`\n",
        "- `ConcurrentParametricQuantumEstimator`\n",
        "\n",
        "`ParametricQuantumEstimator`では、パラメトリック回路とパラメータから直接期待値を計算できます。これを使うことで\n",
        "\n",
        "- 状態がパラメータに依存していることが明確になり、パラメータ付きの状態に対する問題を扱えるようになる (例えば、パラメータに対する期待値の勾配)\n",
        "- Qulacs等のシミュレータでの処理性能の向上\n",
        "\n",
        "が期待できます。\n",
        "\n",
        "`ConcurrentQuantumEstimator`では以下のように、複数の演算子や複数の状態を1度に計算できます。\n",
        "\n",
        "- 1つの演算子、複数の状態\n",
        "- 複数の演算子、1つの状態\n",
        "- 同じ数の、複数の演算子と複数の状態\n",
        "\n",
        "( 例えばQulacsを使用する場合は、`concurrent.futures.Executor` (デフォルトでは`None`で、並列化を行わない。) と並列数 (デフォルトでは1) を指定して、`ConcurrentQuantumEstimator`を作成します。Qulacsはそれ自体が並列処理をサポートしているため、`ThreadPoolExecutor`や`ProcessPoolExecutor`の使用では、パフォーマンスが改善されないかもしれません。)\n",
        "\n",
        "\n",
        "`ConcurrentParametricQuantumEstimator`は`ParametricQuantumEstimator`のconcurrent版です。"
      ],
      "metadata": {
        "id": "KX4KbU3EjyTX"
      }
    },
    {
      "cell_type": "markdown",
      "source": [
        "状況によってそれぞれのestimatorを使い分けるのは、実装する上でコードが複雑になる場合があります。そこでQURI Partsでは入力によって自動的に適切なestimatorを選んで実行してくれる関数`create_general_estimator_from_estimator`を用意しています。"
      ],
      "metadata": {
        "id": "PPp-iv2ZHBh8"
      }
    },
    {
      "cell_type": "code",
      "source": [
        "from quri_parts.qulacs.estimator import create_qulacs_vector_estimator\n",
        "from quri_parts.core.estimator import create_general_estimator_from_estimator\n",
        "from quri_parts.core.state import ParametricCircuitQuantumState\n",
        "\n",
        "# まずEstimatorを作成し\n",
        "estimator = create_qulacs_vector_estimator()\n",
        "# create_general_estimator_from_estimatorに入力することでgeneral enstimatorを作ります。\n",
        "general_estimator = create_general_estimator_from_estimator(estimator)\n",
        "\n",
        "# このgeneral_estimatorは入力する演算子、状態に応じて中で適切なestimatorを使ってくれます。\n",
        "\n",
        "# estimator\n",
        "est_1 = general_estimator(op, state1)\n",
        "print(f\"value={est_1.value}, error={est_1.error}\")\n",
        "\n",
        "# concurrent estimator\n",
        "est_2 = general_estimator(op, [state1, state2])\n",
        "for est in est_2:\n",
        "    print(f\"value={est.value}, error={est.error}\")\n",
        "\n",
        "# parametric estimator\n",
        "# まずparametric stateを準備します。\n",
        "parametric_state = ParametricCircuitQuantumState(3, parametric_circuit)\n",
        "\n",
        "est_3 = general_estimator(op, parametric_state, [0.2, 0.3])\n",
        "print(f\"value={est_3.value}, error={est_3.error}\")\n",
        "\n",
        "# cincurrent parametric estimator\n",
        "est_4 = general_estimator(op, parametric_state, [[0.2, 0.3], [0.4, 0.5]])\n",
        "for est in est_4:\n",
        "    print(f\"value={est.value}, error={est.error}\")"
      ],
      "metadata": {
        "colab": {
          "base_uri": "https://localhost:8080/"
        },
        "id": "yffQvqN_He_Z",
        "outputId": "75a1cdb8-22d7-4d18-9aff-50fd0e71a336"
      },
      "execution_count": null,
      "outputs": [
        {
          "output_type": "stream",
          "name": "stdout",
          "text": [
            "value=(-0.10000000000000003+0.4j), error=0.0\n",
            "value=(-0.10000000000000003+0.4j), error=0.0\n",
            "value=(-0.10000000000000003+0.4j), error=0.0\n",
            "value=(0.29999999999999993+0.39999999999999997j), error=0.0\n",
            "value=(0.29999999999999993+0.39999999999999997j), error=0.0\n",
            "value=(0.3+0.4j), error=0.0\n"
          ]
        }
      ]
    },
    {
      "cell_type": "markdown",
      "source": [
        "## Exercise 2\n",
        "\n",
        "$-(X_0 X_1 + Y_0 Y_1 + Z_0 Z_1)$という演算子を定義し、$|11⟩$という状態に対して期待値推定を行ってみてください。`Estimator`は`create_qulacs_vector_estimator()`で作成してください。"
      ],
      "metadata": {
        "id": "hz6mlixTkUW6"
      }
    },
    {
      "cell_type": "code",
      "source": [
        "J = -1\n",
        "op = Operator({\n",
        "    pauli_label(\"X0 X1\"): J,\n",
        "    pauli_label(\"Y0 Y1\"): J,\n",
        "    pauli_label(\"Z0 Z1\"): J,\n",
        "})\n",
        "\n",
        "state = quantum_state(2, bits=0b11)\n",
        "estimator = create_qulacs_vector_estimator()\n",
        "estimate = estimator(op, state)\n",
        "print(estimate.value)"
      ],
      "metadata": {
        "id": "diubAJ-zojah",
        "colab": {
          "base_uri": "https://localhost:8080/"
        },
        "outputId": "2a050b03-7f82-4a7a-bf78-14251cf61ebe"
      },
      "execution_count": null,
      "outputs": [
        {
          "output_type": "stream",
          "name": "stdout",
          "text": [
            "(-1+0j)\n"
          ]
        }
      ]
    },
    {
      "cell_type": "markdown",
      "source": [
        "## Sampling シミュレーション\n",
        "\n",
        "シミュレータでは状態ベクトルや密度行列を直接扱うことができるので、演算子の期待値もそのまま計算できます。しかし実機を使用する場合には、複数回の測定を繰り返すことで、状態ベクトルや演算子の期待値を推定しなければなりません。(シミュレータでも状態ベクトルに従って、多項分布乱数を使用して、確率的にサンプリングを再現することもできます。)\n",
        "\n",
        "サンプリング測定では、量子回路の実行と量子ビットの測定が複数回繰り返され、複数回の測定結果の統計値から、演算子の期待値が推定されます。\n",
        "\n",
        "### 回路の準備\n",
        "\n",
        "まずはサンプリングを行うための回路を作成しましょう。"
      ],
      "metadata": {
        "id": "W-myHso1kDmy"
      }
    },
    {
      "cell_type": "code",
      "source": [
        "from math import pi\n",
        "from quri_parts.circuit import QuantumCircuit\n",
        "# 4量子ビットの回路\n",
        "circuit = QuantumCircuit(4)\n",
        "circuit.add_X_gate(0)\n",
        "circuit.add_H_gate(1)\n",
        "circuit.add_Y_gate(2)\n",
        "circuit.add_CNOT_gate(1, 2)\n",
        "circuit.add_RX_gate(3, pi/4)"
      ],
      "metadata": {
        "id": "TA_EU31VkBzh"
      },
      "execution_count": null,
      "outputs": []
    },
    {
      "cell_type": "markdown",
      "source": [
        "## Sampler\n",
        "\n",
        "サンプリング測定には、`Sampler`を使用します。`Sampler` (quri_parts.core.samplingで定義されています。) 自体は抽象的なインタフェースなので、実際にサンプリングを行うには、適宜、具体的なインスタンスが必要です。`Sampler`にはシミュレータを使用するものや、実機を使用するものなど幾つかの実装があります。\n",
        "\n",
        "ここでは、Qulacsの状態ベクトルシミュレーションを利用したSamplerを使ってみましょう。"
      ],
      "metadata": {
        "id": "R5tftiljkH17"
      }
    },
    {
      "cell_type": "code",
      "source": [
        "from quri_parts.qulacs.sampler import create_qulacs_vector_sampler\n",
        "# Samplerを作成\n",
        "sampler = create_qulacs_vector_sampler()\n",
        "sampling_result = sampler(circuit, shots=1000)\n",
        "print(sampling_result)"
      ],
      "metadata": {
        "id": "kPwtm1rkkF_X",
        "colab": {
          "base_uri": "https://localhost:8080/"
        },
        "outputId": "9bc4d4f1-6813-4a79-a809-644ecf80600d"
      },
      "execution_count": null,
      "outputs": [
        {
          "output_type": "stream",
          "name": "stdout",
          "text": [
            "Counter({3: 447, 5: 411, 11: 73, 13: 69})\n"
          ]
        }
      ]
    },
    {
      "cell_type": "markdown",
      "source": [
        "Samplerはサンプリング対象の回路と、サンプリング回数 (shots) の2つの引数を取ります。戻り値は以下のようなKeyとValueからなる辞書になっています。\n",
        "\n",
        "- **Keys** 測定結果を表現するint型のビット列。各量子ビットの測定結果は下位ビット側から上位ビット側の順に並んでいる。例えば量子ビット0と量子ビット2が$|1\\rangle$で、それ以外が$|0\\rangle$の場合、ビット列は`0b0101`となる。\n",
        "- **Values** 各ビット列が測定された回数。すべての回数を足し合わせると`shots`に等しくなる。"
      ],
      "metadata": {
        "id": "KAwILL6jkMDe"
      }
    },
    {
      "cell_type": "code",
      "source": [
        "for bits, count in sampling_result.items():\n",
        "    print(f\"A bitstring '{bin(bits)}' is measured {count} times\")\n",
        "print(f\"Total count is {sum(sampling_result.values())}\")"
      ],
      "metadata": {
        "id": "WJ67OK-PkKF5",
        "colab": {
          "base_uri": "https://localhost:8080/"
        },
        "outputId": "270e72e0-9af9-49ac-ac96-641475ee0a80"
      },
      "execution_count": null,
      "outputs": [
        {
          "output_type": "stream",
          "name": "stdout",
          "text": [
            "A bitstring '0b11' is measured 447 times\n",
            "A bitstring '0b101' is measured 411 times\n",
            "A bitstring '0b1011' is measured 73 times\n",
            "A bitstring '0b1101' is measured 69 times\n",
            "Total count is 1000\n"
          ]
        }
      ]
    },
    {
      "cell_type": "markdown",
      "source": [
        "上の例では、量子ビット0は$X$ゲートのみが作用しており、常に$|1\\rangle$として測定されています。一方で、量子ビット1、2、3は0または1になりますが、量子ビット1と2はCNOTゲートによってもつれた状態にあるため、測定結果のパターンは4通りになっています。"
      ],
      "metadata": {
        "id": "gpccHB90kQ4f"
      }
    },
    {
      "cell_type": "markdown",
      "source": [
        "## サンプリング推定\n",
        "ある演算子の期待値を計算する際にestimatorを用いましたが、実際の量子コンピュータではサンプリングしかできないので、サンプリング結果から期待値を推定する必要があります。\n",
        "ここではサンプリングから期待値を推定してみましょう。\n",
        "\n",
        "まずは推定される演算子を定義してみましょう。"
      ],
      "metadata": {
        "id": "qnM_H_odHPo9"
      }
    },
    {
      "cell_type": "code",
      "source": [
        "from quri_parts.core.operator import Operator, pauli_label, PAULI_IDENTITY\n",
        "op = Operator({\n",
        "    pauli_label(\"Z0\"): 0.25,\n",
        "    pauli_label(\"Z1 Z2\"): 2.0,\n",
        "    pauli_label(\"X1 X2\"): 0.5 + 0.25j,\n",
        "    pauli_label(\"Z1 Y3\"): 1.0j,\n",
        "    pauli_label(\"Z2 Y3\"): 1.5 + 0.5j,\n",
        "    pauli_label(\"X1 Y3\"): 2.0j,\n",
        "    PAULI_IDENTITY: 3.0,\n",
        "})\n",
        "print(op)"
      ],
      "metadata": {
        "id": "zsGmYBj4Hb5X",
        "colab": {
          "base_uri": "https://localhost:8080/"
        },
        "outputId": "2d84c460-f821-40c9-d032-fad91cb2fa9d"
      },
      "execution_count": null,
      "outputs": [
        {
          "output_type": "stream",
          "name": "stdout",
          "text": [
            "0.25*Z0 + 2.0*Z1 Z2 + (0.5+0.25j)*X1 X2 + 1j*Z1 Y3 + (1.5+0.5j)*Z2 Y3 + 2j*X1 Y3 + 3.0*I\n"
          ]
        }
      ]
    },
    {
      "cell_type": "markdown",
      "source": [
        "演算子はパウリ演算子の和として表現されます。そうした演算子の期待値を推定する1つの方法は、それぞれのパウリ項の期待値を推定し足し上げることです。\n",
        "\n",
        "パウリ項が交換可能な場合、複数のパウリ項を1度に測定することができます。そのためにまずはパウリ項を交換可能なパウリ項ごとにグループ化します。このようなパウリグルーピングは、演算子の推定において1つの重要な研究分野になっています。\n",
        "\n",
        "最もシンプルな方法の1つはビットごとの交換可能性に基づいたグループ化 (*bitwise grouping*) です。これは以下のように実行できます。"
      ],
      "metadata": {
        "id": "uIYluTLvHfkI"
      }
    },
    {
      "cell_type": "code",
      "source": [
        "from quri_parts.core.operator.grouping import bitwise_pauli_grouping\n",
        "\n",
        "pauli_sets = bitwise_pauli_grouping(op)\n",
        "print(pauli_sets)"
      ],
      "metadata": {
        "id": "zbDcotIVHkKs",
        "colab": {
          "base_uri": "https://localhost:8080/"
        },
        "outputId": "57c4e89e-198b-4fea-cc37-e96ecba1f026"
      },
      "execution_count": null,
      "outputs": [
        {
          "output_type": "stream",
          "name": "stdout",
          "text": [
            "frozenset({frozenset({PauliLabel({(1, <SinglePauli.X: 1>), (3, <SinglePauli.Y: 2>)})}), frozenset({PauliLabel()}), frozenset({PauliLabel({(1, <SinglePauli.X: 1>), (2, <SinglePauli.X: 1>)})}), frozenset({PauliLabel({(0, <SinglePauli.Z: 3>)}), PauliLabel({(2, <SinglePauli.Z: 3>), (1, <SinglePauli.Z: 3>)})}), frozenset({PauliLabel({(2, <SinglePauli.Z: 3>), (3, <SinglePauli.Y: 2>)}), PauliLabel({(3, <SinglePauli.Y: 2>), (1, <SinglePauli.Z: 3>)})})})\n"
          ]
        }
      ]
    },
    {
      "cell_type": "markdown",
      "source": [
        "グループ化関数はパウリラベルのfrozensetのfrozensetを返すため、やや複雑な見た目になっています。"
      ],
      "metadata": {
        "id": "pUFtpdLoHl-R"
      }
    },
    {
      "cell_type": "code",
      "source": [
        "print(f\"Number of groups: {len(pauli_sets)}\")\n",
        "for i, pauli_set in enumerate(pauli_sets):\n",
        "    labels = \", \".join([str(pauli) for pauli in pauli_set])\n",
        "    print(f\"Group {i} contains: {labels}\")"
      ],
      "metadata": {
        "id": "mjN8wvkuHof0",
        "colab": {
          "base_uri": "https://localhost:8080/"
        },
        "outputId": "07248dcf-d251-4195-87f7-90a9637c4578"
      },
      "execution_count": null,
      "outputs": [
        {
          "output_type": "stream",
          "name": "stdout",
          "text": [
            "Number of groups: 5\n",
            "Group 0 contains: X1 Y3\n",
            "Group 1 contains: I\n",
            "Group 2 contains: X1 X2\n",
            "Group 3 contains: Z0, Z1 Z2\n",
            "Group 4 contains: Z2 Y3, Z1 Y3\n"
          ]
        }
      ]
    },
    {
      "cell_type": "markdown",
      "source": [
        "### 測定回路\n",
        "\n",
        "交換可能なパウリセットを測定するには、測定の前に適用される回路を作成する必要があります。bitwise groupingを使用する場合、以下のように回路を構築できます。"
      ],
      "metadata": {
        "id": "213Um5vXHr0c"
      }
    },
    {
      "cell_type": "code",
      "source": [
        "from quri_parts.circuit.utils.circuit_drawer import draw_circuit\n",
        "from quri_parts.core.measurement import bitwise_commuting_pauli_measurement_circuit\n",
        "\n",
        "pauli_set = {pauli_label(\"Z2 Y3\"), pauli_label(\"Z1 Y3\")}\n",
        "measurement_circuit = bitwise_commuting_pauli_measurement_circuit(pauli_set)\n",
        "draw_circuit(QuantumCircuit(qubit_count=4, gates=measurement_circuit))"
      ],
      "metadata": {
        "id": "7H3e7VKyHvSR",
        "colab": {
          "base_uri": "https://localhost:8080/"
        },
        "outputId": "9ff2c4a5-6c95-40d1-c9c1-e6f19367005c"
      },
      "execution_count": null,
      "outputs": [
        {
          "output_type": "stream",
          "name": "stdout",
          "text": [
            "                \n",
            "                \n",
            "----------------\n",
            "                \n",
            "                \n",
            "                \n",
            "----------------\n",
            "                \n",
            "                \n",
            "                \n",
            "----------------\n",
            "                \n",
            "   ___     ___  \n",
            "  |Sdg|   | H | \n",
            "--|0  |---|1  |-\n",
            "  |___|   |___| \n"
          ]
        }
      ]
    },
    {
      "cell_type": "markdown",
      "source": [
        "### サンプリング\n",
        "\n",
        "それでは以下のような手順でサンプリングを行います。\n",
        "\n",
        "- 期待値を測定したい回路（状態回路）を作成する\n",
        "- パウリセットの測定のための回路を、状態準備の回路の後ろに連結する\n",
        "- 連結された回路に対してサンプリングを行う\n",
        "\n",
        "\n",
        "ここでは簡単のために初期状態として`ComputationalBasisState`を準備していますが、任意の`CircuitQuantumState`を使用することができます。"
      ],
      "metadata": {
        "id": "DbDq44VRHxcP"
      }
    },
    {
      "cell_type": "code",
      "source": [
        "from quri_parts.core.state import quantum_state\n",
        "\n",
        "initial_state = quantum_state(4, bits=0b0101)\n",
        "# 状態準備のための回路\n",
        "state_prep_circuit = initial_state.circuit\n",
        "# 測定回路を連結します\n",
        "sampled_circuit = state_prep_circuit + measurement_circuit\n",
        "# サンプリングを行います\n",
        "sampling_result = sampler(sampled_circuit, shots=1000)\n",
        "print({bin(bits): count for bits, count in sampling_result.items()})"
      ],
      "metadata": {
        "id": "GQERSVWLH2zz",
        "colab": {
          "base_uri": "https://localhost:8080/"
        },
        "outputId": "84f9f968-af22-4aa8-ef03-b231021c56a4"
      },
      "execution_count": null,
      "outputs": [
        {
          "output_type": "stream",
          "name": "stdout",
          "text": [
            "{'0b1101': 531, '0b101': 469}\n"
          ]
        }
      ]
    },
    {
      "cell_type": "markdown",
      "source": [
        "### サンプリング結果からのパウリ項の再構築\n",
        "\n",
        "パウリ項の値はサンプリング結果から再構築する必要があります。上の例では$Z_2 Y_3$と$Z_1 Y_3$がサンプリング測定され、`0b1101`と`0b0101`の2つのビットパターンが得られました。bitwise groupingの場合、パウリ演算子の値は以下のように再構築できます。"
      ],
      "metadata": {
        "id": "9VBudsZYH914"
      }
    },
    {
      "cell_type": "code",
      "source": [
        "from quri_parts.core.measurement import bitwise_pauli_reconstructor_factory\n",
        "# Z2 Y3のためのreconstructorを作成します\n",
        "reconstructor = bitwise_pauli_reconstructor_factory(pauli_label(\"Z2 Y3\"))\n",
        "# サンプル結果のビットパターン0b1101からZ2 Y3の値を再構築します\n",
        "pauli_value = reconstructor(0b1101)\n",
        "print(pauli_value)\n",
        "# 0b0101から再構築します\n",
        "pauli_value = reconstructor(0b0101)\n",
        "print(pauli_value)"
      ],
      "metadata": {
        "id": "bZx9SFxYIA9Q",
        "colab": {
          "base_uri": "https://localhost:8080/"
        },
        "outputId": "bf5cde94-79cb-4ceb-ad8a-b12e5ef66265"
      },
      "execution_count": null,
      "outputs": [
        {
          "output_type": "stream",
          "name": "stdout",
          "text": [
            "1\n",
            "-1\n"
          ]
        }
      ]
    },
    {
      "cell_type": "markdown",
      "source": [
        "$Z_2 Y_3$の期待値は以下のように計算できます。"
      ],
      "metadata": {
        "id": "27Ll2n2_IDDL"
      }
    },
    {
      "cell_type": "code",
      "source": [
        "pauli_exp = (\n",
        "    reconstructor(0b1101) * sampling_result[0b1101] +\n",
        "    reconstructor(0b0101) * sampling_result[0b0101]\n",
        ") / 1000\n",
        "print(pauli_exp)\n",
        "\n",
        "# 上の例と等価です\n",
        "pauli_exp = sum(\n",
        "    reconstructor(bits) * count for bits, count in sampling_result.items()\n",
        ") / sum(sampling_result.values())\n",
        "print(pauli_exp)\n",
        "\n",
        "# より便利な方法もあります\n",
        "from quri_parts.core.estimator.sampling import trivial_pauli_expectation_estimator\n",
        "pauli_exp = trivial_pauli_expectation_estimator(sampling_result, pauli_label(\"Z2 Y3\"))\n",
        "print(pauli_exp)"
      ],
      "metadata": {
        "id": "SerZb1qdIFKs",
        "colab": {
          "base_uri": "https://localhost:8080/"
        },
        "outputId": "9e88d92e-5d00-420d-f92b-bfca8229e485"
      },
      "execution_count": null,
      "outputs": [
        {
          "output_type": "stream",
          "name": "stdout",
          "text": [
            "0.062\n",
            "0.062\n",
            "0.062\n"
          ]
        }
      ]
    },
    {
      "cell_type": "markdown",
      "source": [
        "ここではbitwise groupingを使用しているため、`trivial_pauli_expectation_estimator`を使用しています。より一般的な場合には、`general_pauli_expectation_estimator`を`PauliReconstuctorFactory`とともに使用してください。"
      ],
      "metadata": {
        "id": "w98kruYzIHNg"
      }
    },
    {
      "cell_type": "code",
      "source": [
        "from quri_parts.core.estimator.sampling import general_pauli_expectation_estimator\n",
        "pauli_exp = general_pauli_expectation_estimator(\n",
        "    sampling_result, pauli_label(\"Z2 Y3\"), bitwise_pauli_reconstructor_factory\n",
        ")\n",
        "print(pauli_exp)"
      ],
      "metadata": {
        "id": "gyZiXjg_IJXS",
        "colab": {
          "base_uri": "https://localhost:8080/"
        },
        "outputId": "d344299e-0648-4bb7-f1e2-1dc3d3a1a383"
      },
      "execution_count": null,
      "outputs": [
        {
          "output_type": "stream",
          "name": "stdout",
          "text": [
            "0.062\n"
          ]
        }
      ]
    },
    {
      "cell_type": "markdown",
      "source": [
        "### オリジナルの演算子の期待値を、パウリ項の推定値から推定する\n",
        "\n",
        "最後に、各パウリ項を足し合わせることで、オリジナルの演算子の期待値を推定します。$Z_2 Y_3$の寄与は以下のように計算できます。"
      ],
      "metadata": {
        "id": "FEn5GpgrILve"
      }
    },
    {
      "cell_type": "code",
      "source": [
        "# opに含まれるZ2 Y3の係数を取得します\n",
        "coef = op[pauli_label(\"Z2 Y3\")]\n",
        "pauli_contrib = coef * pauli_exp\n",
        "print(pauli_contrib)"
      ],
      "metadata": {
        "id": "U7lRRmk-IO12",
        "colab": {
          "base_uri": "https://localhost:8080/"
        },
        "outputId": "a76af5c9-5b48-426f-ebc0-659413e7c77a"
      },
      "execution_count": null,
      "outputs": [
        {
          "output_type": "stream",
          "name": "stdout",
          "text": [
            "(0.093+0.031j)\n"
          ]
        }
      ]
    },
    {
      "cell_type": "markdown",
      "source": [
        "各パウリ項についてこの手順を繰り返すことで、オリジナルの演算子の期待値が推定できます。"
      ],
      "metadata": {
        "id": "BYzKcUhrIQuh"
      }
    },
    {
      "cell_type": "markdown",
      "source": [
        "### サンプリング推定のショートカットメソッド\n",
        "\n",
        "上の手順は少し複雑なので、ショートカットできるメソッドが用意されています。まずは`CommutablePauliSetMeasurement`オブジェクトについて紹介します。これは今まで扱ってきた以下の要素を全て持っている便利なオブジェクトです。\n",
        "\n",
        "- `pauli_set`: 一緒に測定される、交換可能なパウリ演算子のセット\n",
        "- `measurement_circuit`: あたえられた`pauli_set`を測定するための回路\n",
        "- `pauli_reconstructor_factory`: サンプリング結果からパウリ演算子の値を再構築するためのファクトリ関数\n",
        "\n",
        "`CommutablePauliSetMeasurement`を構築するには、特定の測定スキームを選択する必要があります。例えば、bitwise groupingを使用する場合は以下のようにします。"
      ],
      "metadata": {
        "id": "vccT9CvPITmJ"
      }
    },
    {
      "cell_type": "code",
      "source": [
        "from quri_parts.core.measurement import bitwise_commuting_pauli_measurement\n",
        "measurements = bitwise_commuting_pauli_measurement(op)\n",
        "print(f\"Number of CommutablePauliSetMeasurement: {len(measurements)}\")\n",
        "measurement = measurements[0]\n",
        "print(measurement.pauli_set)\n",
        "print(measurement.measurement_circuit)\n",
        "print(measurement.pauli_reconstructor_factory)"
      ],
      "metadata": {
        "id": "zw2M0ygvIbjL",
        "colab": {
          "base_uri": "https://localhost:8080/"
        },
        "outputId": "d8c7d37c-bc8f-4d81-ef8f-358e638a679e"
      },
      "execution_count": null,
      "outputs": [
        {
          "output_type": "stream",
          "name": "stdout",
          "text": [
            "Number of CommutablePauliSetMeasurement: 5\n",
            "frozenset({PauliLabel({(1, <SinglePauli.X: 1>), (3, <SinglePauli.Y: 2>)})})\n",
            "(QuantumGate(name='H', target_indices=(1,), control_indices=(), classical_indices=(), params=(), pauli_ids=(), unitary_matrix=()), QuantumGate(name='Sdag', target_indices=(3,), control_indices=(), classical_indices=(), params=(), pauli_ids=(), unitary_matrix=()), QuantumGate(name='H', target_indices=(3,), control_indices=(), classical_indices=(), params=(), pauli_ids=(), unitary_matrix=()))\n",
            "<function bitwise_pauli_reconstructor_factory at 0x7f7da85c2f80>\n"
          ]
        }
      ]
    },
    {
      "cell_type": "markdown",
      "source": [
        "推定のために必要なもう1つの入力は`PauliSamplingShotsAllocator`です。このオブジェクトはサンプリングの全体のショット数が各パウリセットに対してどのように割り振られるかを指定します。幾つかのアロケータが用意されています。"
      ],
      "metadata": {
        "id": "BDLFWQ6lIdHp"
      }
    },
    {
      "cell_type": "code",
      "source": [
        "from quri_parts.core.sampling.shots_allocator import (\n",
        "    create_equipartition_shots_allocator,\n",
        "    create_proportional_shots_allocator,\n",
        "    create_weighted_random_shots_allocator,\n",
        ")\n",
        "# ショット数をパウリセットに均等に分配する\n",
        "allocator = create_equipartition_shots_allocator()\n",
        "# ショット数を演算子のパウリ係数に比例するように割り当てる\n",
        "allocator = create_proportional_shots_allocator()\n",
        "# ショット数をパウリ係数に応じた重みからランダムに分配する\n",
        "allocator = create_weighted_random_shots_allocator(seed=777)"
      ],
      "metadata": {
        "id": "r_AQ_toqIfzU"
      },
      "execution_count": null,
      "outputs": []
    },
    {
      "cell_type": "markdown",
      "source": [
        "これらの入力値を使用して、以下のようにサンプリング推定を行うことができます。"
      ],
      "metadata": {
        "id": "QvqcGLLOIhcK"
      }
    },
    {
      "cell_type": "code",
      "source": [
        "from quri_parts.qulacs.sampler import create_qulacs_vector_concurrent_sampler\n",
        "from quri_parts.core.estimator.sampling import sampling_estimate\n",
        "concurrent_sampler = create_qulacs_vector_concurrent_sampler()\n",
        "estimate = sampling_estimate(\n",
        "    op,            # 期待値を推定する演算子\n",
        "    initial_state, # 初期 (回路) 状態\n",
        "    5000,          # 合計サンプリングショット数\n",
        "    concurrent_sampler, # ConcurrentSampler\n",
        "    bitwise_commuting_pauli_measurement, # CommutablePauliSetMeasurementのファクトリ関数\n",
        "    allocator,     # PauliSamplingShotsAllocator\n",
        ")\n",
        "print(f\"Estimated expectation value: {estimate.value}\")\n",
        "print(f\"Standard error of estimation: {estimate.error}\")"
      ],
      "metadata": {
        "id": "_xlkH1uuIj5Y",
        "colab": {
          "base_uri": "https://localhost:8080/"
        },
        "outputId": "1c0b8481-e7ec-4d90-c30a-d02c8b47da5a"
      },
      "execution_count": null,
      "outputs": [
        {
          "output_type": "stream",
          "name": "stdout",
          "text": [
            "Estimated expectation value: (0.7945570979868829+0.014862561120120242j)\n",
            "Standard error of estimation: 0.07111821936049047\n"
          ]
        }
      ]
    },
    {
      "cell_type": "markdown",
      "source": [
        "また、`create_sampling_estimator`という関数を用いることで、サンプリングで期待値を推定する`QuantumEstimator`を構成することができます。"
      ],
      "metadata": {
        "id": "eJ9UM6wdIl9Z"
      }
    },
    {
      "cell_type": "code",
      "source": [
        "from quri_parts.core.estimator.sampling import create_sampling_estimator\n",
        "estimator = create_sampling_estimator(\n",
        "    5000,          # 合計サンプリングショット数\n",
        "    concurrent_sampler, # ConcurrentSampler\n",
        "    bitwise_commuting_pauli_measurement, # CommutablePauliSetMeasurementのファクトリ関数\n",
        "    allocator,     # PauliSamplingShotsAllocator\n",
        ")\n",
        "estimate = estimator(op, initial_state)\n",
        "print(f\"Estimated expectation value: {estimate.value}\")\n",
        "print(f\"Standard error of estimation: {estimate.error}\")"
      ],
      "metadata": {
        "id": "qRbk0aXqIoxe",
        "colab": {
          "base_uri": "https://localhost:8080/"
        },
        "outputId": "a783d512-3404-4d99-86c0-1e9e9467a64b"
      },
      "execution_count": null,
      "outputs": [
        {
          "output_type": "stream",
          "name": "stdout",
          "text": [
            "Estimated expectation value: (0.6821789321789321+0.04427724095227232j)\n",
            "Standard error of estimation: 0.07082977606463033\n"
          ]
        }
      ]
    },
    {
      "cell_type": "markdown",
      "source": [
        "# 第3章 変分アルゴリズム\n",
        "\n",
        "\n",
        "パラメータを持つ量子回路に対してパラメータの最適値を探索する、変分量子アルゴリズムと呼ばれる一群のアルゴリズムが存在します。この章ではまず演算子の期待値の勾配を計算し、続いてこの勾配を用いて変分量子固有値ソルバ (VQE) と呼ばれるアルゴリズムを構成する方法を説明したいと思います。"
      ],
      "metadata": {
        "id": "JRSPx1ZLwktS"
      }
    },
    {
      "cell_type": "markdown",
      "source": [
        "## 演算子の期待値の勾配\n",
        "\n",
        "変分アルゴリズムではしばしば特定のコスト関数の最小化が目的とされますが、こうしたコスト関数は特定のパラメータ付き量子回路の演算子の期待値として定義されます。\n",
        "$f(\\theta) = \\langle O \\rangle_\\theta = \\langle \\psi(\\theta)|O|\\psi(\\theta) \\rangle$ ただし $O$ は演算子、$\\psi(\\theta)$ は $\\theta = \\theta_0,\\dots,\\theta_{m - 1}$ によるパラメータ状態です。こうした最小化では、以下のようなコスト関数の勾配がしばしば用いられます。\n",
        "\n",
        "$$\n",
        "\\nabla_\\theta f(\\theta) = \\left(\\frac{\\partial \\langle O \\rangle_\\theta}{\\partial \\theta_0}, \\dots, \\frac{\\partial \\langle O \\rangle_\\theta}{\\partial \\theta_{m - 1}} \\right)\n",
        "$$\n",
        "\n",
        "以下ではこうした勾配を計算するための、数値勾配とパラメータシフトルールという2つの方法を見ていきましょう。\n",
        "\n",
        "まずは対象の演算子とパラメータ状態を準備します。"
      ],
      "metadata": {
        "id": "MXpVGjPEwnjJ"
      }
    },
    {
      "cell_type": "code",
      "source": [
        "from quri_parts.core.operator import Operator, pauli_label\n",
        "\n",
        "op = Operator({\n",
        "    pauli_label(\"X0 Y1\"): 0.5 + 0.5j,\n",
        "    pauli_label(\"Z0 X1\"): 0.2,\n",
        "})\n",
        "\n",
        "from math import pi\n",
        "from quri_parts.circuit import LinearMappedUnboundParametricQuantumCircuit, CONST\n",
        "\n",
        "param_circuit = LinearMappedUnboundParametricQuantumCircuit(2)\n",
        "param_circuit.add_H_gate(0)\n",
        "param_circuit.add_CNOT_gate(0, 1)\n",
        "\n",
        "theta, phi = param_circuit.add_parameters(\"theta\", \"phi\")\n",
        "param_circuit.add_ParametricRX_gate(0, {theta: 1/2, phi: 1/3, CONST: pi/2})\n",
        "param_circuit.add_ParametricRZ_gate(1, {theta: 1/3, phi: -1/2, CONST: -pi/2})\n",
        "\n",
        "from quri_parts.core.state import ParametricCircuitQuantumState\n",
        "\n",
        "param_state = ParametricCircuitQuantumState(2, param_circuit)"
      ],
      "metadata": {
        "id": "AJ2BgdatkW7s"
      },
      "execution_count": null,
      "outputs": []
    },
    {
      "cell_type": "markdown",
      "source": [
        "### 数値勾配\n",
        "\n",
        "QURI Partsでは勾配推定のために`quri_parts.core.estimator.GradientEstimator`インタフェースが用意されています。数値微分を使用したシンプルな勾配推定は以下のように行います。"
      ],
      "metadata": {
        "id": "ez--E4KOwuSC"
      }
    },
    {
      "cell_type": "code",
      "source": [
        "from quri_parts.core.estimator.gradient import create_numerical_gradient_estimator\n",
        "from quri_parts.qulacs.estimator import create_qulacs_vector_concurrent_parametric_estimator\n",
        "\n",
        "qulacs_concurrent_parametric_estimator = create_qulacs_vector_concurrent_parametric_estimator()\n",
        "gradient_estimator = create_numerical_gradient_estimator(\n",
        "    qulacs_concurrent_parametric_estimator,\n",
        "    delta=1e-4,\n",
        ")\n",
        "\n",
        "gradient = gradient_estimator(op, param_state, [0.2, 0.3])\n",
        "print(\"Estimated gradient:\", gradient.values)"
      ],
      "metadata": {
        "id": "9n5Iut7awrck",
        "colab": {
          "base_uri": "https://localhost:8080/"
        },
        "outputId": "f734fc4d-93aa-4b14-969c-07a0390febf7"
      },
      "execution_count": null,
      "outputs": [
        {
          "output_type": "stream",
          "name": "stdout",
          "text": [
            "Estimated gradient: [(0.0004866565750383245-0.013872819366045341j), (0.042165661391369014+0.020809229047680233j)]\n"
          ]
        }
      ]
    },
    {
      "cell_type": "markdown",
      "source": [
        "勾配推定器の作成時には2つの引数をあたえます。1つ目は`ConcurrentParametricQuantumEstimator`でわずかにシフトした変数に対する期待値推定を行うために使用されます。2つ目は`delta`で数値微分の刻み幅を指定します。勾配推定器は演算子、パラメータ状態、勾配を評価するパラメータ値を用いて実行され、勾配の推定値を返します。\n"
      ],
      "metadata": {
        "id": "Qn7mYyA1wzdA"
      }
    },
    {
      "cell_type": "markdown",
      "source": [
        "### パラメータシフトルールを用いた勾配評価 (Skip)\n",
        "\n",
        "パラメータシフトルールは、パラメータ回路によって生成された状態に対する演算子の期待値の勾配を評価する方法です[1]。 QURI Partsではパラメータシフトルールによって勾配を推定する方法も提供しています。ここではパラメータ回路に含まれるパラメトリックゲートはすべて $\\exp{(-i\\theta P/2)}$ ただし $P$ はパウリ積という状態を仮定しています。QURI Partsによって定義されるパラメトリックゲートはすべてこの条件を満たしています。\n",
        "\n",
        "[1]: Mitarai, K. and Negoro, M. and Kitagawa, M. and Fujii, K., [Phys. Rev. A **98**, 032309 (2018)](https://doi.org/10.1103/PhysRevA.98.032309). [arXiv:1803.00745](https://arxiv.org/abs/1803.00745).\n"
      ],
      "metadata": {
        "id": "DozwUhy6Jrm8"
      }
    },
    {
      "cell_type": "markdown",
      "source": [
        "\n",
        "これは、以下のような関数で計算できます。"
      ],
      "metadata": {
        "id": "mBdVDpAlJvae"
      }
    },
    {
      "cell_type": "code",
      "source": [
        "from quri_parts.core.estimator.gradient import create_parameter_shift_gradient_estimator\n",
        "from quri_parts.qulacs.estimator import create_qulacs_vector_concurrent_parametric_estimator\n",
        "\n",
        "qulacs_concurrent_parametric_estimator = create_qulacs_vector_concurrent_parametric_estimator()\n",
        "\n",
        "gradient_estimator = create_parameter_shift_gradient_estimator(\n",
        "    qulacs_concurrent_parametric_estimator,\n",
        ")\n",
        "\n",
        "gradient = gradient_estimator(op, param_state, [0.2, 0.3])\n",
        "print(\"Estimated gradient:\", gradient.values)"
      ],
      "metadata": {
        "id": "Y1gNnMXmJ1tk",
        "colab": {
          "base_uri": "https://localhost:8080/"
        },
        "outputId": "49c024d6-0a97-44a1-bcef-d170092117cd"
      },
      "execution_count": null,
      "outputs": [
        {
          "output_type": "stream",
          "name": "stdout",
          "text": [
            "Estimated gradient: [(0.00048665657669647033-0.013872819366718317j), (0.04216566140053679+0.020809229050077496j)]\n"
          ]
        }
      ]
    },
    {
      "cell_type": "markdown",
      "source": [
        "## 変分量子固有値ソルバ (VQE)\n",
        "\n",
        "変分量子固有値ソルバ (VQE) はパラメータを持つ量子状態に対して、演算子の期待値 (例えば分子のエネルギーなど) を最適化する手法です。\n",
        "\n",
        "分子や物質の性質の一部は、以下のようなシュレディンガー方程式を解くことで、明らかにできます。\n",
        "\n",
        "$$H|\\psi⟩ = E|\\psi⟩$$\n",
        "\n",
        "ここで、Hはハミルトニアンと呼ばれる演算子 (行列) で、分子の形など、系によって決まっています。シュレディンガー方程式を解くことは、ハミルトニアンHの固有値問題を解き、固有値$E_i$と対応する固有ベクトル (固有状態) $|ϕ_i⟩$を求めることと同値です。この時固有値$E_i$は固有状態$|\\phi_i⟩$のエネルギーとなります。\n",
        "\n",
        "特殊な状況を除いて、電子の状態は基底状態にあることがほとんどなので、固有状態の中でも特に基底状態に興味を持たれることが多いです。変分法では、任意の状態$|ψ⟩$について、そのエネルギー期待値が基底エネルギー$E_0$以上となることを利用します。\n",
        "\n",
        "$$⟨ψ|H|ψ⟩ ≥ E_0$$\n",
        "\n",
        "仮にランダムに状態$\\{|\\psi_i⟩\\}$を用意し、その中で一番エネルギーが低い状態を見つければ、それは$\\{|\\psi_i⟩\\}$の中では、最も基底状態に近い状態になるでしょう。実際には、ランダムに状態を取ってくるのは効率がわるいので、経験的にパラメータ付きの量子状態$|\\psi(\\theta)⟩$を用意し、エネルギー期待値を最小化するような$θ$を見つけるという方法がとられています。\n",
        "\n",
        "VQEは、変分法において、量子計算機で効率的に記述できる量子状態を用いて基底状態を探索するアルゴリズムです。VQEの実行手順は以下の通りです。\n",
        "\n",
        "1. 量子計算機上で量子状態$|\\psi(\\theta)⟩$を生成する\n",
        "2. $⟨H(\\theta)⟩ = ⟨\\phi(\\theta)|H|\\psi(\\theta)⟩$を測定する\n",
        "3. 測定結果をもとに、古典計算機で$⟨\\psi(\\theta)|H|\\psi(\\theta)⟩$が小さくなるような$\\theta$を求める\n",
        "\n",
        "この手順を$⟨\\psi(\\theta)|H|\\psi(\\theta)⟩$が収束するまで繰り返すことで、近似的な基底状態を求めます。"
      ],
      "metadata": {
        "id": "39mdcqhvw202"
      }
    },
    {
      "cell_type": "markdown",
      "source": [
        "VQEには大きく2つの部品があります。\n",
        "\n",
        "- *Ansatz*: パラメータ化された量子状態を生成するための、パラメータ付きの量子回路\n",
        "- *Optimizer*: 数値的に演算子の期待値を最適化する方法\n",
        "\n",
        "### Ansatz\n",
        "\n",
        "VQEの文脈では、ansatzは対象の演算子の期待値を評価するための、パラメータ化された量子状態を生成するための、パラメータ化された量子回路を指します。`(LinearMapped)UnboundParametricQuantumCircuit`を直接定義することもできますし、`quri_parts.algo.ansatz`パッケージに含まれる、よく使われるansatzを使用することもできます。ここでは、例としてhardware-efficient ansatz [1] を使用しています。\n",
        "\n",
        "[1]: Kandala, A., Mezzacapo, A., Temme, K. et al. Hardware-efficient variational quantum eigensolver for small molecules and quantum magnets. [Nature **549**, 242–246 (2017)](https://doi.org/10.1038/nature23879)."
      ],
      "metadata": {
        "id": "vQZLMDRIw7OT"
      }
    },
    {
      "cell_type": "code",
      "source": [
        "from quri_parts.algo.ansatz import HardwareEfficient\n",
        "\n",
        "hw_ansatz = HardwareEfficient(qubit_count=4, reps=3)"
      ],
      "metadata": {
        "id": "or9u9FNdwxAS"
      },
      "execution_count": null,
      "outputs": []
    },
    {
      "cell_type": "markdown",
      "source": [
        "期待値を評価するためにはパラメータ化された量子状態が必要ですが、これは初期状態にansatzを適用することで得られます。ここでは計算基底状態 $|0011\\rangle$を使ってみましょう。"
      ],
      "metadata": {
        "id": "dJnf9GYpw_68"
      }
    },
    {
      "cell_type": "code",
      "source": [
        "from quri_parts.core.state import ParametricCircuitQuantumState, quantum_state\n",
        "\n",
        "# 現状ではパラメータ化された量子状態の準備はすこし複雑になっています\n",
        "def prepare_parametric_state(initial_state, ansatz):\n",
        "    circuit = LinearMappedUnboundParametricQuantumCircuit(initial_state.qubit_count)\n",
        "    circuit += initial_state.circuit\n",
        "    circuit += ansatz\n",
        "    return ParametricCircuitQuantumState(initial_state.qubit_count, circuit)\n",
        "\n",
        "cb_state = quantum_state(4, bits=0b0011)\n",
        "parametric_state = prepare_parametric_state(cb_state, hw_ansatz)"
      ],
      "metadata": {
        "id": "cL-4R0y-w90V"
      },
      "execution_count": null,
      "outputs": []
    },
    {
      "cell_type": "markdown",
      "source": [
        "### Optimizer\n",
        "\n",
        "オプティマイザはコスト関数を最小化するような最適なパラメータを探索します。VQEの文脈ではコスト関数は対象の演算子の期待値が使用されます。オプティマイザの種類によって、コスト関数それ自体のみが使用されたり、コスト関数の勾配が使用されたりします。`scipy.optimize`ライブラリや`quri_parts.algo.optimizer`パッケージのオプティマイザを自由に使用することができます。この例ではAdam [1] を使用しています。\n",
        "\n",
        "[1]: Diederik P. Kingma, Jimmy Ba, Adam: A Method for Stochastic Optimization. [arXiv:1412.6980 (2014)](https://doi.org/10.48550/arXiv.1412.6980)"
      ],
      "metadata": {
        "id": "wTMIMyoZxEEU"
      }
    },
    {
      "cell_type": "code",
      "source": [
        "from quri_parts.algo.optimizer import Adam\n",
        "\n",
        "# 引数で設定を調整することができます。詳細はリファレンスをご参照ください。\n",
        "adam_optimizer = Adam()"
      ],
      "metadata": {
        "id": "7Tjr7MfJxCJw"
      },
      "execution_count": null,
      "outputs": []
    },
    {
      "cell_type": "markdown",
      "source": [
        "### VQEを実行する\n",
        "\n",
        "まずは対象の演算子を定義します。この演算子の期待値が最適化の対象になります。"
      ],
      "metadata": {
        "id": "RCZNh9CDxIYX"
      }
    },
    {
      "cell_type": "code",
      "source": [
        "from quri_parts.core.operator import Operator, pauli_label, PAULI_IDENTITY\n",
        "\n",
        "# Jordan-Wigner変換した水素分子のハミルトニアンを例として使用します\n",
        "hamiltonian = Operator({\n",
        "    PAULI_IDENTITY: 0.03775110394645542,\n",
        "    pauli_label(\"Z0\"): 0.18601648886230593,\n",
        "    pauli_label(\"Z1\"): 0.18601648886230593,\n",
        "    pauli_label(\"Z2\"): -0.2694169314163197,\n",
        "    pauli_label(\"Z3\"): -0.2694169314163197,\n",
        "    pauli_label(\"Z0 Z1\"): 0.172976101307451,\n",
        "    pauli_label(\"Z0 Z2\"): 0.12584136558006326,\n",
        "    pauli_label(\"Z0 Z3\"): 0.16992097848261506,\n",
        "    pauli_label(\"Z1 Z2\"): 0.16992097848261506,\n",
        "    pauli_label(\"Z1 Z3\"): 0.12584136558006326,\n",
        "    pauli_label(\"Z2 Z3\"): 0.17866777775953396,\n",
        "    pauli_label(\"X0 X1 Y2 Y3\"): -0.044079612902551774,\n",
        "    pauli_label(\"X0 Y1 Y2 X3\"): 0.044079612902551774,\n",
        "    pauli_label(\"Y0 X1 X2 Y3\"): 0.044079612902551774,\n",
        "    pauli_label(\"Y0 Y1 X2 X3\"): -0.044079612902551774,\n",
        "})"
      ],
      "metadata": {
        "id": "cy5-Ad_7xGUm"
      },
      "execution_count": null,
      "outputs": []
    },
    {
      "cell_type": "markdown",
      "source": [
        "この演算子とパラメータ化された状態を使用して、回路パラメータの関数としてコスト関数を定義できます。"
      ],
      "metadata": {
        "id": "kL5XtHN7xNGu"
      }
    },
    {
      "cell_type": "code",
      "source": [
        "from quri_parts.qulacs.estimator import create_qulacs_vector_parametric_estimator\n",
        "\n",
        "estimator = create_qulacs_vector_parametric_estimator()\n",
        "\n",
        "def cost_fn(param_values):\n",
        "    estimate = estimator(hamiltonian, parametric_state, param_values)\n",
        "    return estimate.value.real"
      ],
      "metadata": {
        "id": "cV-mDSk2xKzF"
      },
      "execution_count": null,
      "outputs": []
    },
    {
      "cell_type": "markdown",
      "source": [
        "また数値勾配を使用して、コスト関数の勾配を定義します。"
      ],
      "metadata": {
        "id": "G98YgjsOxRFT"
      }
    },
    {
      "cell_type": "code",
      "source": [
        "import numpy as np\n",
        "from quri_parts.core.estimator.gradient import create_numerical_gradient_estimator\n",
        "from quri_parts.qulacs.estimator import create_qulacs_vector_concurrent_parametric_estimator\n",
        "\n",
        "qulacs_concurrent_parametric_estimator = create_qulacs_vector_concurrent_parametric_estimator()\n",
        "gradient_estimator = create_numerical_gradient_estimator(\n",
        "    qulacs_concurrent_parametric_estimator,\n",
        "    delta=1e-4,\n",
        ")\n",
        "\n",
        "def grad_fn(param_values):\n",
        "    estimate = gradient_estimator(hamiltonian, parametric_state, param_values)\n",
        "    return np.asarray([g.real for g in estimate.values])"
      ],
      "metadata": {
        "id": "6EFrFkJoxPDL"
      },
      "execution_count": null,
      "outputs": []
    },
    {
      "cell_type": "markdown",
      "source": [
        "それでは、QURI Partsのオプティマイザを使用してVEQを実行してみましょう。"
      ],
      "metadata": {
        "id": "r9dd749nxVlp"
      }
    },
    {
      "cell_type": "code",
      "source": [
        "from quri_parts.algo.optimizer import OptimizerStatus\n",
        "\n",
        "def vqe(operator, init_params, cost_fn, grad_fn, optimizer):\n",
        "    opt_state = optimizer.get_init_state(init_params)\n",
        "    while True:\n",
        "        opt_state = optimizer.step(opt_state, cost_fn, grad_fn)\n",
        "        if opt_state.status == OptimizerStatus.FAILED:\n",
        "            print(\"Optimizer failed\")\n",
        "            break\n",
        "        if opt_state.status == OptimizerStatus.CONVERGED:\n",
        "            print(\"Optimizer converged\")\n",
        "            break\n",
        "    return opt_state\n",
        "\n",
        "init_params = [0.1] * hw_ansatz.parameter_count\n",
        "result = vqe(hamiltonian, init_params, cost_fn, grad_fn, adam_optimizer)\n",
        "print(\"Optimized value:\", result.cost)\n",
        "print(\"Optimized parameter:\", result.params)\n",
        "print(\"Iterations:\", result.niter)\n",
        "print(\"Cost function calls:\", result.funcalls)\n",
        "print(\"Gradient function calls:\", result.gradcalls)"
      ],
      "metadata": {
        "id": "a1L6ZmwSxTa2",
        "colab": {
          "base_uri": "https://localhost:8080/"
        },
        "outputId": "4a1fa445-f059-40b5-8d31-3b5a6fa7c368"
      },
      "execution_count": null,
      "outputs": [
        {
          "output_type": "stream",
          "name": "stdout",
          "text": [
            "Optimizer converged\n",
            "Optimized value: -1.111981340572802\n",
            "Optimized parameter: [ 5.47178291e-02  8.40762264e-02  5.12253346e-02  8.19750385e-02\n",
            " -9.72099462e-03 -1.16141820e-01 -3.06727507e-03  9.66792838e-01\n",
            "  1.27323903e-01  1.04790856e-01  1.27097745e-01  9.40512802e-02\n",
            " -1.60419276e-02  9.92326531e-01 -3.35897819e-02  9.91027219e-01\n",
            "  6.44048148e-02  2.49964275e-04  6.43611652e-02 -5.72090635e-03\n",
            " -1.48640052e-02 -1.16555422e-01 -3.59503991e-02  9.79005522e-01\n",
            "  1.67652639e-02 -2.35033854e-01  1.34115106e-02 -2.24493021e-01\n",
            " -2.91851973e-02  4.35033864e-01 -3.52284762e-03  4.24492844e-01]\n",
            "Iterations: 24\n",
            "Cost function calls: 25\n",
            "Gradient function calls: 24\n"
          ]
        }
      ]
    },
    {
      "cell_type": "markdown",
      "source": [
        "SciPyのオプティマイザを使用してVQEを実行することもできます。"
      ],
      "metadata": {
        "id": "FL2rDmmcxao8"
      }
    },
    {
      "cell_type": "code",
      "source": [
        "from scipy.optimize import minimize\n",
        "\n",
        "def vqe_scipy(operator, init_params, cost_fn, grad_fn, method, options):\n",
        "    return minimize(cost_fn, init_params, jac=grad_fn, method=method, options=options)\n",
        "\n",
        "init_params = [0.1] * hw_ansatz.parameter_count\n",
        "bfgs_options = {\n",
        "    \"gtol\": 1e-6,\n",
        "}\n",
        "result = vqe_scipy(hamiltonian, init_params, cost_fn, grad_fn, \"BFGS\", bfgs_options)\n",
        "print(result.message)\n",
        "print(\"Optimized value:\", result.fun)\n",
        "print(\"Optimized parameter:\", result.x)\n",
        "print(\"Iterations:\", result.nit)\n",
        "print(\"Cost function calls:\", result.nfev)\n",
        "print(\"Gradient function calls:\", result.njev)"
      ],
      "metadata": {
        "id": "iY6Sw6UAxX7-",
        "colab": {
          "base_uri": "https://localhost:8080/"
        },
        "outputId": "64937fa5-08ea-4aa4-f962-d2b4b8356c89"
      },
      "execution_count": null,
      "outputs": [
        {
          "output_type": "stream",
          "name": "stdout",
          "text": [
            "Optimization terminated successfully.\n",
            "Optimized value: -1.1299047841754901\n",
            "Optimized parameter: [ 1.45297382e-03  4.02600903e-02  6.61495486e-01  2.27805624e-03\n",
            "  3.12808306e-01 -4.22176316e-02 -1.39441351e+00 -2.22268473e-03\n",
            "  3.36168477e-01  1.60432553e-04  6.57395774e-01 -2.80054911e-01\n",
            "  6.78343650e-01  1.17707883e-01  2.20202801e+00 -4.20629882e-03\n",
            "  1.57012790e+00  5.56374908e-06 -8.13920824e-04  1.72414610e-01\n",
            "  1.79456046e-01 -1.45017638e-01 -2.28066566e-01  1.45369458e-02\n",
            "  1.23511782e+00  1.09926905e-01 -1.10167259e-03  1.09947597e-01\n",
            " -5.22472897e-01  9.00729839e-02 -6.36472822e-01  9.00524366e-02]\n",
            "Iterations: 172\n",
            "Cost function calls: 177\n",
            "Gradient function calls: 177\n"
          ]
        }
      ]
    },
    {
      "cell_type": "markdown",
      "source": [
        "# 第4章 ハミルトニアンダイナミクス\n",
        "\n",
        "\n",
        "量子コンピュータの応用に「ハミルトニアンを用いた量子系のダイナミクスのシミュレーション」があります。量子系はシュレーディンガー方程式\n",
        "\n",
        "$$\n",
        "i \\frac{\\partial |\\psi(t)\\rangle}{\\partial t}=H|\\psi(t)\\rangle\n",
        "$$\n",
        "\n",
        "に従い時間発展するので、量子系のダイナミクスをシミュレーションするには、シュレーディンガー方程式を数値的に解く必要があります。ここで $H$ は考えている量子系のハミルトニアン、$|\\psi(t)\\rangle$ は量子状態を表します。\n",
        "\n",
        "ハミルトニアンが時間に依存しない場合は、シュレーディンガー方程式は形式的に解くことができて\n",
        "\n",
        "$$\n",
        "|\\psi(t)\\rangle = e^{-iHt}|\\psi(0)\\rangle\n",
        "$$\n",
        "\n",
        "となります。よって、初期状態 $|\\psi(0)\\rangle$ に時間発展を表すユニタリー演算子 $U_H(t)=e^{-iHt}$ を作用させることで量子系のダイナミクスをシミュレーションできます。\n"
      ],
      "metadata": {
        "id": "0qRaBrbHyjZ7"
      }
    },
    {
      "cell_type": "markdown",
      "source": [
        "## ハミルトニアンが対角化できる場合\n",
        "\n",
        "ハミルトニアンが対角化できる場合は、計算は簡単になります。ハミルトニアンの固有状態 $|\\phi_i\\rangle$ と固有値 $E_i$ は次の式を満たします\n",
        "\n",
        "$$\n",
        "H|\\phi_i\\rangle = E_i|\\phi_i\\rangle.\n",
        "$$\n",
        "\n",
        "この固有状態に時間発展演算子を作用させると\n",
        "\n",
        "$$\n",
        "e^{-iHt}|\\phi_i\\rangle = e^{-iE_it}|\\phi_i\\rangle.\n",
        "$$\n",
        "\n",
        "となるので、初期状態を\n",
        "\n",
        "$$\n",
        "|\\psi(0)\\rangle = \\sum_{i=0}^Nc_i|\\phi_i\\rangle\n",
        "$$\n",
        "\n",
        "と展開することで、時刻 $t$ での状態は\n",
        "\n",
        "$$\n",
        "|\\psi(t)\\rangle = \\sum_{i=0}^Nc_ie^{-iHt}|\\phi_i\\rangle = \\sum_{i=0}^Nc_ie^{-iE_it}|\\phi_i\\rangle\n",
        "$$\n",
        "\n",
        "つまり、各固有状態に対応する位相 $e^{-iE_it}$ をかけて足し合わせることでシミュレーションできます。\n",
        "\n",
        "しかし一般にハミルトニアン $H$ の次元は考えている量子系に関係する自由度の数で指数関数的に大きくなります。例えば $n$ qubit系を考えるとハミルトニアンは $2^n$ 次元となり、比較的小さな $n$ でも古典コンピュータで対角化することは困難です。"
      ],
      "metadata": {
        "id": "UZhRK9VMymOI"
      }
    },
    {
      "cell_type": "markdown",
      "source": [
        "## トロッター分解を用いた量子系のシミュレーション\n",
        "\n",
        "ハミルトニアンが特定の構造を持つ場合、量子コンピュータは $U_H(t)$ を効率よく計算できることが知られています。その場合に用いられるのがトロッター分解です。トロッター分解とは、正方行列 $A, B$ の和の指数関数を、それぞれの指数関数の積に近似する公式です。\n",
        "\n",
        "$$\n",
        "e^{\\delta(A+B)}=e^{\\delta A}e^{\\delta B} + \\mathcal{O}(\\delta^2)\n",
        "$$\n",
        "\n",
        "ハミルトニアンが $H=\\sum_{k=1}^LH_k$ のように複数の部分ハミルトニアンの和に分解できるとき、この公式を使って時間発展演算子を次のように分解することができます\n",
        "\n",
        "$$\n",
        "e^{-iHt}=\\left(e^{-i\\sum_k H_k\\frac{t}{M}}\\right)^M = \\left(e^{-iH_1\\frac{t}{M}}\\cdot e^{-iH_2\\frac{t}{M}}\\dots\\right)^M + \\mathcal{O}\\left(\\left(\\frac{t}{M}\\right)^2\\right).\n",
        "$$\n",
        "\n",
        "ここで $M$ は近似の精度 $\\mathcal{O}((\\frac{t}{M})^2)$ が十分小さくなるよう選ぶことができます。このようにトロッター分解を使うことで、時間発展演算子を部分ハミルトニアンの時間発展演算子 $U_{H_k}(t) = e^{-iH_k t}$ の積に書き直すことができます。量子回路で $U_{H_k}(t)$ を簡単に実装できる場合には、トロッター分解を用いて量子コンピュータで量子系のダイナミクスを効率よくシミュレーションすることができます。\n",
        "\n",
        "まとめると、トロッター分解を用いて量子系のダイナミクスを効率よくシミュレーションするためにはハミルトニアンに対して次の条件が成り立つ必要があります。\n",
        "- ハミルトニアンが $H=\\sum_k H_k$ のように複数の部分ハミルトニアンに分解できる。\n",
        "- 個々の $H_k$ に対して、 $U_{H_k}(t) = e^{-iH_k t}$ が量子回路で簡単に実装できる。\n",
        "\n",
        "幸いなことに、物理、量子化学の分野で興味のあるハミルトニアンは、大抵はこれらの条件を満たしていることが知られています。"
      ],
      "metadata": {
        "id": "_4nXG4B4ypRd"
      }
    },
    {
      "cell_type": "markdown",
      "source": [
        "## ハイゼンベルグ模型のシミュレーション\n",
        "\n",
        "それでは、具体的なハミルトニアンを使って量子コンピュータで量子系のダイナミクスをシミュレーションしてみましょう。今回は磁性体のモデルとしてよく使われる、1次元ハイゼンベルグ模型のハミルトニアンを使います。これは空間一列にスピンを持つ粒子が配置された系で、今回は簡単のため二つの粒子が存在する場合を考えます。具体的なハミルトニアンは\n",
        "\n",
        "$$\n",
        "H = J(X_0X_1 + Y_0Y_1+Z_0Z_1).\n",
        "$$\n",
        "\n",
        "ここで $J<0$ は結合定数、 $X_i, Y_i, Z_i$ はそれぞれ $i$ 番目のスピンに作用するパウリ演算子です。$J<0$では強磁性と呼ばれる性質を持ち、基底状態は以下のスピン三重項です。\n",
        "\n",
        "$$\n",
        "|\\uparrow\\uparrow\\rangle,\\  \\frac{1}{\\sqrt{2}}(|\\uparrow\\downarrow\\rangle+|\\downarrow\\uparrow\\rangle),\\  |\\downarrow\\downarrow\\rangle.\n",
        "$$\n",
        "\n",
        "このハミルトニアンは上であげた条件を満たします。すなわち\n",
        "- $H=\\sum_{k=1}^3 H_k, H_1 = X_0X_1, H_2 = Y_0Y_1, H_3 = Z_0Z_1$ と部分ハミルトニアンに分解できる。\n",
        "- 後で詳しくみますが、$U_{H_k}(t) = e^{-iH_k t}$ は量子回路で簡単に実装できる形になっています。\n",
        "\n",
        "今回は $z$ 方向のスピン期待値の全系での平均値（$z$方向の全磁化）$m_z$ という物理量の時間発展をシミュレーションしてみます。\n",
        "\n",
        "$$\n",
        "m_z = \\frac{1}{2}\\sum_{j=0}^1\\langle Z_j \\rangle.\n",
        "$$\n",
        "\n",
        "それぞれのスピンについて、$+z$ 方向に向いた状態を $|0\\rangle$, $-z$ 方向に向いた状態を $|1\\rangle$に対応づけ、初期状態は二つのスピンが$+z$ 方向に揃った状態 $|00\\rangle$ とします。"
      ],
      "metadata": {
        "id": "MtT2-Jr1ysb8"
      }
    },
    {
      "cell_type": "code",
      "source": [
        "# 必要なパッケージをインポート\n",
        "from quri_parts.circuit import PauliRotation, QuantumCircuit\n",
        "from quri_parts.core.operator import Operator, pauli_label\n",
        "from quri_parts.core.state import quantum_state\n",
        "from quri_parts.qulacs.estimator import create_qulacs_vector_estimator\n",
        "\n",
        "import matplotlib.pyplot as plt"
      ],
      "metadata": {
        "id": "r3Q0z8bvybk1"
      },
      "execution_count": null,
      "outputs": []
    },
    {
      "cell_type": "code",
      "source": [
        "# 今回は2スピン系なので2qubit系を考える。\n",
        "nqubits = 2\n",
        "# ハイゼンベルグ模型のパラメータ\n",
        "J = -1\n",
        "# ダイナミクスをシミュレーションする時間\n",
        "t = 1.0\n",
        "# トロッター分解の分割数\n",
        "m = 100\n",
        "# 時間の刻み幅\n",
        "delta = t / m\n",
        "\n",
        "# estimator\n",
        "estimator = create_qulacs_vector_estimator()\n",
        "\n",
        "# 全磁化に対応するオペレーターを用意する。\n",
        "magnetization_op = Operator()\n",
        "for i in range(nqubits):\n",
        "    magnetization_op += Operator({pauli_label(f\"Z{i}\"): 1 / 2})\n",
        "\n",
        "# 初期状態 |00> を準備する。\n",
        "state = quantum_state(n_qubits=nqubits, bits=0)\n",
        "print(state)"
      ],
      "metadata": {
        "id": "LtBFgsS6ywtJ",
        "colab": {
          "base_uri": "https://localhost:8080/"
        },
        "outputId": "5911f3ac-0efc-4042-cfb7-b20ffee5aa34"
      },
      "execution_count": null,
      "outputs": [
        {
          "output_type": "stream",
          "name": "stdout",
          "text": [
            "ComputationalBasisState(qubit_count=2, bits=0b0, phase=0π/2)\n"
          ]
        }
      ]
    },
    {
      "cell_type": "markdown",
      "source": [
        "次にトロッター分解を考えます。時間発展演算子は\n",
        "\n",
        "$$\n",
        "U_H(t) = \\exp{\\left(-iJ(X_0X_1 + Y_0Y_1+Z_0Z_1)t\\right)}.\n",
        "$$\n",
        "\n",
        "ハミルトニアンの各項は可換でないので、トロッター分解を用いると\n",
        "\n",
        "$$\n",
        "U_H(t) \\approx \\left(\\exp{\\left(-iJ\\frac{t}{M}X_0X_1\\right)}\\exp{\\left(-iJ\\frac{t}{M}Y_0Y_1\\right)}\\exp{\\left(-iJ\\frac{t}{M}Z_0Z_1\\right)}\\right)^M\n",
        "$$\n",
        "\n",
        "と分解できるので、分割された各時間ステップ $\\Delta t = \\frac{t}{M}$ での近似的な時間発展は\n",
        "\n",
        "$$\n",
        "U_{H, \\Delta t} = \\exp{\\left(-iJ\\Delta tX_0X_1\\right)}\\exp{\\left(-iJ\\Delta tY_0Y_1\\right)}\\exp{\\left(-iJ\\Delta tZ_0Z_1\\right)}\n",
        "$$\n",
        "\n",
        "となります。\n",
        "\n",
        "この演算子を量子回路で実装します。まず $\\exp{\\left(-iJ\\Delta tZ_0Z_1\\right)}$ を考えます。この演算子の2スピン系の４つの状態に対する作用は\n",
        "\n",
        "$$\n",
        "|00\\rangle \\rightarrow e^{-iJ\\Delta t}|00\\rangle\\\\\n",
        "|01\\rangle \\rightarrow e^{iJ\\Delta t}|01\\rangle\\\\\n",
        "|10\\rangle \\rightarrow e^{iJ\\Delta t}|10\\rangle\\\\\n",
        "|11\\rangle \\rightarrow e^{-iJ\\Delta t}|11\\rangle\n",
        "$$\n",
        "\n",
        "となっています。これは $[CNOT_{0,1}, RZ(2J\\Delta t)_1, CNOT_{0,1}]$ という回路を考えると同じ作用をすることが確認できます。同様に、 $\\exp{\\left(-iJ\\Delta tX_0X_1\\right)}$ も $[H_0, H_1, CNOT_{0,1}, RZ(2J\\Delta t)_1, CNOT_{0,1}, H_0, H_1]$ と書き直すことができます。（$\\exp{\\left(-iJ\\Delta tY_0Y_1\\right)}$ はどのようにすれば回路で実装できるか考えてみましょう。）\n",
        "\n",
        "QURI Partsではこのような演算子を扱う際に便利な`PauliRotation`ゲートを提供しています。このゲートを使えば毎回上のような変換を自分で考えずとも、直接 $\\exp{\\left(-iJ\\Delta tZ_0Z_1\\right)}$ の形の演算子を量子回路で実装できます。\n",
        "\n",
        "(`PauliRotation`ゲートは、`target_indices`で作用対象の各量子ビット番号を、`pauli_ids`パウリ演算子の種類 (0: Identity, 1: X, 2: Y, 3: Z) を、`angle`で回転角を指定して作成します。具体的にどのようなゲート列に展開されるかは、[QURI Partsのトランスパイラ](https://quri-parts.qunasys.com/quri_parts/circuit/quri_parts.circuit.transpile.html#quri_parts.circuit.transpile.PauliRotationDecomposeTranspiler)等を使用してご確認ください。)"
      ],
      "metadata": {
        "id": "yzn8wvjIyy6y"
      }
    },
    {
      "cell_type": "code",
      "source": [
        "# 例として、\\exp{\\left(-iJ\\Delta tZ_0Z_1\\right)}を考える。\n",
        "e_zz_circuit = PauliRotation(target_indices=[0, 1], pauli_ids=[3, 3], angle=2 * J * delta)\n",
        "\n",
        "# 他も同様にかける。\\exp{\\left(-iJ\\Delta tX_0X_1\\right)}\n",
        "e_xx_circuit = PauliRotation(target_indices=[0, 1], pauli_ids=[1, 1], angle=2 * J * delta)\n",
        "# \\exp{\\left(-iJ\\Delta tY_0Y_1\\right)}\n",
        "e_yy_circuit = PauliRotation(target_indices=[0, 1], pauli_ids=[2, 2], angle=2 * J * delta)"
      ],
      "metadata": {
        "id": "3IDc_6MmyzUy"
      },
      "execution_count": null,
      "outputs": []
    },
    {
      "cell_type": "markdown",
      "source": [
        "後はこれらの回路を使って実際にシミュレーションしてみましょう。"
      ],
      "metadata": {
        "id": "H_lFY-UYy6JG"
      }
    },
    {
      "cell_type": "code",
      "source": [
        "circuit_trotter_heisenberg = QuantumCircuit(qubit_count=nqubits)\n",
        "\n",
        "# 時間と磁化を記録するリスト\n",
        "x = [i * delta for i in range(m + 1)]\n",
        "y = []\n",
        "\n",
        "# t = 0 の時の全磁化のみ先に計算\n",
        "y.append(estimator(magnetization_op, state).value.real)\n",
        "\n",
        "#t=0以降の全磁化を計算\n",
        "for i in range(m):\n",
        "    # delta = t / M だけ時間発展\n",
        "    circuit_trotter_heisenberg.add_gate(e_xx_circuit)\n",
        "    circuit_trotter_heisenberg.add_gate(e_yy_circuit)\n",
        "    circuit_trotter_heisenberg.add_gate(e_zz_circuit)\n",
        "    circuit_state = quantum_state(nqubits, circuit=circuit_trotter_heisenberg)\n",
        "    # 磁化を計算して記録\n",
        "    y.append(round(estimator(magnetization_op, circuit_state).value.real, 6))\n",
        "\n",
        "# グラフの描画\n",
        "plt.xlabel(\"time\")\n",
        "plt.ylabel(\"Value of magnetization\")\n",
        "plt.title(\"Dynamics of Heisenberg model\")\n",
        "plt.plot(x, y, \"-\")\n",
        "plt.show()"
      ],
      "metadata": {
        "id": "q_GJjc7Wy6bW",
        "colab": {
          "base_uri": "https://localhost:8080/",
          "height": 472
        },
        "outputId": "d591efb3-d85f-42c2-eb67-a96d2c26d24c"
      },
      "execution_count": null,
      "outputs": [
        {
          "output_type": "display_data",
          "data": {
            "text/plain": [
              "<Figure size 640x480 with 1 Axes>"
            ],
            "image/png": "[encoded data removed]"
          },
          "metadata": {}
        }
      ]
    },
    {
      "cell_type": "markdown",
      "source": [
        "この結果から分かるように、 $z$ 方向の全磁化 $m_z$ は一定になっています。つまりこの模型では $m_z$ が保存量になっていることがわかります。実際に確かめるためには、ハミルトニアン $H = J(X_0X_1 + Y_0Y_1+Z_0Z_1)$ と 全磁化の演算子 $\\frac{1}{2}(Z_0 +Z_1)$ の交換関係を求めればわかります。興味のある方は各自で調べてみてください。"
      ],
      "metadata": {
        "id": "di0nc9_Iy-W5"
      }
    },
    {
      "cell_type": "markdown",
      "source": [
        "## QURI Partsを用いたトロッター・スズキ分解\n",
        "ちなみに、今回はトロッター分解を直接行いましたが、QURI Partsではより一般化されたトロッター・スズキ分解が実装されており、使用することができます。一般のパウリ演算子の和 $P=\\sum_i P_i$ に係数 $x$ をかけた演算子の指数関数 $e^{xP}$ に対するトロッター・スズキ分解は再帰的に次のように定義されます。\n",
        "$$\n",
        "S_{2k}(x)=[S_{2k-2}(p_kx)]^2S_{2k-2}((1-4p_k)x)[S_{2k-2}(p_kx)]^2.\n",
        "$$\n",
        "\n",
        "ここで\n",
        "\n",
        "$$\n",
        "S_2(x)=\\prod_{j=1}^me^{P_j x /2}\\prod_{j'=m}^1 e^{P_{j'} x /2},\n",
        "$$\n",
        "\n",
        "であり、 $p_k=(4-4^{1/(2k-1)})^{-1}$ です。近似は $k$ が大きくなるにつれ精度は良くなり、一般的に\n",
        "\n",
        "$$\n",
        "e^{-iHt}=\\left(e^{-i\\sum_k H_k\\frac{t}{M}}\\right)^M = S_{2k}\\left(-it/M\\right)^M + \\mathcal{O}\\left(\\left(\\frac{t}{M}\\right)^{2k+1}\\right)\n",
        "$$\n",
        "\n",
        "となることが知られています。以下のようにQURI Partsを使うことで簡単にトロッター・スズキ分解を行うことができます。"
      ],
      "metadata": {
        "id": "CJFWf0eyzBgY"
      }
    },
    {
      "cell_type": "code",
      "source": [
        "from quri_parts.core.operator import trotter_suzuki_decomposition\n",
        "from quri_parts.core.circuit.exp_single_pauli_gate import convert_exp_single_pauli_gate\n",
        "\n",
        "# 今回は2スピン系なので2qubit系を考える。\n",
        "nqubits = 2\n",
        "# ハイゼンベルグ模型のパラメータ\n",
        "J = -1\n",
        "# ダイナミクスをシミュレーションする時間\n",
        "t = 1.0\n",
        "# トロッター・スズキ分解の分割数\n",
        "m = 100\n",
        "# 時間の刻み幅\n",
        "delta = t / m\n",
        "\n",
        "# トロッター・スズキ分解を適用するハミルトニアンを準備する。\n",
        "hamiltonian = Operator({pauli_label(f\"X0 X1\"): J})\n",
        "hamiltonian += Operator({pauli_label(f\"Y0 Y1\"): J})\n",
        "hamiltonian += Operator({pauli_label(f\"Z0 Z1\"): J})\n",
        "\n",
        "# トロッター・スズキ分解を行う。今回は k=2 とする。\n",
        "decomposed_hamiltonian = trotter_suzuki_decomposition(hamiltonian, -1 * delta , 2)\n",
        "\n",
        "# 出力は分解された各項のリストになっている。各項はパウリ演算子積の指数関数で、`ExponentialSinglePauli`というクラスとして表される。\n",
        "# 各項は`convert_exp_single_pauli_gate()`を使うことで簡単にゲートに書き換えることができる。\n",
        "gates = [convert_exp_single_pauli_gate(i.pauli, i.coefficient) for i in decomposed_hamiltonian]\n",
        "\n",
        "\n",
        "circuit_trotter_suzuki_heisenberg = QuantumCircuit(qubit_count=nqubits)\n",
        "\n",
        "# 時間と磁化を記録するリスト\n",
        "x = [i * delta for i in range(m + 1)]\n",
        "y = []\n",
        "\n",
        "# t = 0 の時の全磁化のみ先に計算\n",
        "y.append(estimator(magnetization_op, state).value.real)\n",
        "\n",
        "#t=0以降の全磁化を計算\n",
        "for i in range(m):\n",
        "    # delta = t / M だけ時間発展\n",
        "    circuit_trotter_suzuki_heisenberg.extend(gates)\n",
        "    circuit_state = quantum_state(nqubits, circuit=circuit_trotter_suzuki_heisenberg)\n",
        "    # 磁化を計算して記録\n",
        "    y.append(round(estimator(magnetization_op, circuit_state).value.real, 6))\n",
        "\n",
        "# グラフの描画\n",
        "plt.xlabel(\"time\")\n",
        "plt.ylabel(\"Value of magnetization\")\n",
        "plt.title(\"Dynamics of Heisenberg model\")\n",
        "plt.plot(x, y, \"-\")\n",
        "plt.show()"
      ],
      "metadata": {
        "id": "efEmLlZjy-sx",
        "colab": {
          "base_uri": "https://localhost:8080/",
          "height": 472
        },
        "outputId": "0fc2c1ed-caa6-4559-92f8-02862e5dc08a"
      },
      "execution_count": null,
      "outputs": [
        {
          "output_type": "display_data",
          "data": {
            "text/plain": [
              "<Figure size 640x480 with 1 Axes>"
            ],
            "image/png": "[encoded data removed]"
          },
          "metadata": {}
        }
      ]
    },
    {
      "cell_type": "markdown",
      "source": [
        "## 横磁場を加えた場合のハイゼンベルグ模型\n",
        "\n",
        "これだけだと面白くないので、 $x$ 軸方向の一様な磁場をかけた横磁場ハイゼンベルグ模型を考えてみます。\n",
        "\n",
        "$$\n",
        "H = J(X_0X_1 + Y_0Y_1+Z_0Z_1) + h(X_0 + X_1).\n",
        "$$\n",
        "\n",
        "ここで $h$ は横磁場の強さを表す係数です。この場合にトロッター分解を行うと、先ほどの回路に $e^{-ih\\frac{t}{M}X_0}e^{-ih\\frac{t}{M}X_1}$ という項も加えて実装する必要があります。ただしこの場合は $RX$ ゲートを使うだけで実装できるので難しくはありません。"
      ],
      "metadata": {
        "id": "JHQvxEJIzFZS"
      }
    },
    {
      "cell_type": "code",
      "source": [
        "# 同様に2qubit系を考える。\n",
        "nqubits = 2\n",
        "# ハイゼンベルグ模型のパラメータ\n",
        "J = -1\n",
        "# ダイナミクスをシミュレーションする時間\n",
        "t = 3.0\n",
        "# トロッター分解の分割数\n",
        "m = 100\n",
        "# 時間の刻み幅\n",
        "delta = t / m\n",
        "\n",
        "# 横磁場の強さ\n",
        "h = 3\n",
        "\n",
        "# estimator\n",
        "estimator = create_qulacs_vector_estimator()\n",
        "\n",
        "# 全磁化に対応するオペレーターを用意する。\n",
        "magnetization_op = Operator()\n",
        "for i in range(nqubits):\n",
        "    magnetization_op += Operator({pauli_label(f\"Z{i}\"): 1 / 2})\n",
        "\n",
        "# 初期状態 |00> を準備する。\n",
        "state = quantum_state(n_qubits=nqubits, bits=0)\n",
        "\n",
        "circuit_trotter_heisenberg = QuantumCircuit(qubit_count=nqubits)\n",
        "\n",
        "# 時間と磁化を記録するリスト\n",
        "x = [i * delta for i in range(m + 1)]\n",
        "y = []\n",
        "\n",
        "# t = 0 の時の全磁化のみ先に計算\n",
        "y.append(estimator(magnetization_op, state).value.real)\n",
        "\n",
        "# t = 0 以降の全磁化を計算\n",
        "for i in range(m):\n",
        "    # delta = t / Mだけ時間発展\n",
        "    circuit_trotter_heisenberg.add_gate(e_xx_circuit)\n",
        "    circuit_trotter_heisenberg.add_gate(e_yy_circuit)\n",
        "    circuit_trotter_heisenberg.add_gate(e_zz_circuit)\n",
        "    # 横磁場の効果を RX ゲートで表す\n",
        "    circuit_trotter_heisenberg.add_RX_gate(index=0, angle=2 * h * delta)\n",
        "    circuit_trotter_heisenberg.add_RX_gate(index=1, angle=2 * h * delta)\n",
        "    circuit_state = quantum_state(nqubits, circuit=circuit_trotter_heisenberg)\n",
        "    # 磁化を計算して記録\n",
        "    y.append(estimator(magnetization_op, circuit_state).value.real)\n",
        "\n",
        "# グラフの描画\n",
        "plt.xlabel(\"time\")\n",
        "plt.ylabel(\"Value of magnetization\")\n",
        "plt.title(\"Dynamics of Heisenberg model\")\n",
        "plt.plot(x, y, \"-\")\n",
        "plt.show()"
      ],
      "metadata": {
        "id": "ZwXrMKnAzFxL",
        "colab": {
          "base_uri": "https://localhost:8080/",
          "height": 472
        },
        "outputId": "8fd40809-b42b-43e7-8e03-025e15248396"
      },
      "execution_count": null,
      "outputs": [
        {
          "output_type": "display_data",
          "data": {
            "text/plain": [
              "<Figure size 640x480 with 1 Axes>"
            ],
            "image/png": "[encoded data removed]"
          },
          "metadata": {}
        }
      ]
    },
    {
      "cell_type": "markdown",
      "source": [
        "$h = 0$ のハイゼンベルグ模型の場合は全磁化の値が一定だったのに対し、横磁場 $h = 3$ を入れた横磁場ハイゼンベルグ模型の場合は全磁化の値が $0$ 周りで振動しています。これは横磁場を加えたハミルトニアンと全磁化の演算子が可換でないことからもわかります。興味のある方は振動の物理的な描像を考えてみるのも、量子計算というより物理の問題ではありますが面白いと思います。"
      ],
      "metadata": {
        "id": "rc6yerRtzJZB"
      }
    },
    {
      "cell_type": "markdown",
      "source": [
        "## Exercise 5\n",
        "\n",
        "横磁場をかけた場合も、QURI Partsの`trotter_suzuki_decomposition()`関数使ってシミュレーションすることができます。シミュレーションを行って、トロッター分解と同じ結果が再現できていることを確認してみてください。"
      ],
      "metadata": {
        "id": "ALyy7Z0ezMBp"
      }
    },
    {
      "cell_type": "code",
      "source": [
        "# 2qubit系を考える。\n",
        "nqubits = 2\n",
        "# ハイゼンベルグ模型のパラメータ\n",
        "J = -1\n",
        "# ダイナミクスをシミュレーションする時間\n",
        "t = 3.0\n",
        "# トロッター・スズキ分解の分割数\n",
        "m = 100\n",
        "# 時間の刻み幅\n",
        "delta = t / m\n",
        "\n",
        "# 横磁場の強さ\n",
        "h = 3\n",
        "\n",
        "# トロッター・スズキ分解を適用するハミルトニアンを準備する。\n",
        "hamiltonian = Operator({pauli_label(\"X0 X1\"): J})\n",
        "hamiltonian += Operator({pauli_label(\"Y0 Y1\"): J})\n",
        "hamiltonian += Operator({pauli_label(\"Z0 Z1\"): J})\n",
        "# 横磁場\n",
        "hamiltonian += Operator({pauli_label(\"X0\"): h}) + Operator({pauli_label(\"X1\"): h})\n",
        "\n",
        "# トロッター・スズキ分解を行う。今回は k=2 とする。\n",
        "decomposed_hamiltonian = trotter_suzuki_decomposition(hamiltonian, -1 * delta , 2)\n",
        "\n",
        "gates = [convert_exp_single_pauli_gate(i.pauli, i.coefficient) for i in decomposed_hamiltonian]\n",
        "\n",
        "circuit_trotter_suzuki_heisenberg = QuantumCircuit(qubit_count=nqubits)\n",
        "\n",
        "# 時間と磁化を記録するリスト\n",
        "x = [i * delta for i in range(m + 1)]\n",
        "y = []\n",
        "\n",
        "# t = 0 の時の全磁化のみ先に計算\n",
        "y.append(estimator(magnetization_op, state).value.real)\n",
        "\n",
        "#t=0以降の全磁化を計算\n",
        "for i in range(m):\n",
        "    # delta = t / M だけ時間発展\n",
        "    circuit_trotter_suzuki_heisenberg.extend(gates)\n",
        "    circuit_state = quantum_state(nqubits, circuit=circuit_trotter_suzuki_heisenberg)\n",
        "    # 磁化を計算して記録\n",
        "    y.append(round(estimator(magnetization_op, circuit_state).value.real, 6))\n",
        "\n",
        "# グラフの描画\n",
        "plt.xlabel(\"time\")\n",
        "plt.ylabel(\"Value of magnetization\")\n",
        "plt.title(\"Dynamics of Heisenberg model\")\n",
        "plt.plot(x, y, \"-\")\n",
        "plt.show()"
      ],
      "metadata": {
        "id": "A56XxTIYzJr1",
        "colab": {
          "base_uri": "https://localhost:8080/",
          "height": 472
        },
        "outputId": "01956739-e522-41a4-dd85-0f852a88952c"
      },
      "execution_count": null,
      "outputs": [
        {
          "output_type": "display_data",
          "data": {
            "text/plain": [
              "<Figure size 640x480 with 1 Axes>"
            ],
            "image/png": "[encoded data removed]"
          },
          "metadata": {}
        }
      ]
    },
    {
      "cell_type": "markdown",
      "source": [
        "# 第5章 位相推定\n",
        "\n",
        "量子多体系のエネルギー計算や素因数分解、連立線型方程式といった様々な問題は、ユニタリ行列の固有値問題に帰着でき、量子位相推定アルゴリズム (QPE) によって、古典計算機と比較して非常に高速に解けるようになることが期待されています。\n",
        "\n",
        "量子位相推定は、ユニタリ演算子$U$があたえられた時に、その固有値$e^{iλ}$の位相$λ$を求めるアルゴリズムです。この説明では、入力状態$|\\psi⟩$を固有状態に限定して解説を行いますが、入力状態が固有状態の重ね合わせの場合でも同じ議論が行えるため、一般性は失われません。\n",
        "\n",
        "$$U|\\psi⟩ = e^{iλ}|\\psi⟩$$\n",
        "\n",
        "量子位相推定を行う量子回路は以下のように表されます。\n"
      ],
      "metadata": {
        "id": "FJr1JQ2W0MwC"
      }
    },
    {
      "cell_type": "markdown",
      "source": [
        "![PEA.webp](data:image/webp;base64,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)"
      ],
      "metadata": {
        "id": "NxBa5U-V0PGw"
      }
    },
    {
      "cell_type": "markdown",
      "source": [
        "ユニタリ演算子$U$の固有値$e^{i\\lambda}$について、位相$λ$の2進小数表現の各桁を$λ = (2\\pi)0.j_1 j_2 … j_n$と表すと、位相推定回路によって１回の測定で$j_1,j_2,…,j_n$を求めることができます。\n",
        "\n",
        "1. まず$|0⟩$に初期化されたn個の量子ビットにアダマールゲートHを作用させ、次に制御ユニタリ演算$U^{2^k} (k = 0,…,n-1)$を作用させます。k番目の量子ビットには、位相キックバックによって$e^{iλ2^k}$の位相が獲得され、以下のような状態が得られます。\n",
        "\n",
        "$$\\left(\\frac{|0⟩ + e^{i (2\\pi) 0.j_1…j_n} |1⟩}{\\sqrt{2}}\\right) \\otimes \\left(\\frac{|0⟩ + e^{i (2\\pi) 0.j_2…j_n} |1⟩}{\\sqrt{2}}\\right) \\otimes … \\otimes \\left(\\frac{|0⟩ + e^{i (2\\pi) 0.j_n} |1⟩}{\\sqrt{2}}\\right) \\otimes |λ⟩$$\n",
        "\n",
        "2. 各補助量子ビットの状態は、量子フーリエ変換の結果と全く同じ形をしており、逆量子フーリエ変換をすることで、$|j_1…j_n⟩$が得られます。ノイズがない理想的な量子計算機では、この状態で1回の測定を行えば、$j_1,j_2,…,j_n$が求められます。\n",
        "\n",
        "位相キックバックについては[Quantum Native Dojo 2-2](https://dojo.qulacs.org/ja/latest/notebooks/2.2_Hadamard_test.html)\n",
        "、量子フーリエ変換については[Quantum Native Dojo 2-3](https://dojo.qulacs.org/ja/latest/notebooks/2.3_quantum_Fourier_transform.html)をご参照ください。"
      ],
      "metadata": {
        "id": "u2x4W9F20SW2"
      }
    },
    {
      "cell_type": "markdown",
      "source": [
        "## Phaseゲートの位相推定\n",
        "\n",
        "まずはシンプルな例を使って、位相推定回路が機能することを確認してみましょう。ここではターゲットのユニタリ演算子として、Phaseゲートを使用します。\n",
        "\n",
        "$$\n",
        "Phase =\n",
        "\\left(\n",
        "\\begin{matrix}\n",
        "1 & 0 \\\\\n",
        "0 & e^{iθ}\n",
        "\\end{matrix}\n",
        "\\right)\n",
        "$$\n",
        "\n",
        "Phaseゲートを制御Phaseゲートとして位相推定回路に埋め込むことで、$e^{iθ} = e^{i2πx}$の$x$の値を求めてみましょう。\n",
        "\n",
        "最初に必要なライブラリをまとめてimportしておきます。"
      ],
      "metadata": {
        "id": "Ebf57o5j0VpQ"
      }
    },
    {
      "cell_type": "code",
      "source": [
        "from quri_parts.circuit import PauliRotation, QuantumCircuit\n",
        "from quri_parts.core.operator import Operator, pauli_label\n",
        "from quri_parts.core.state import quantum_state\n",
        "from quri_parts.qulacs.estimator import create_qulacs_vector_estimator\n",
        "from quri_parts.qulacs.sampler import create_qulacs_vector_sampler\n",
        "\n",
        "from math import pi"
      ],
      "metadata": {
        "id": "YYTNXfpe0NIg"
      },
      "execution_count": null,
      "outputs": []
    },
    {
      "cell_type": "markdown",
      "source": [
        "すべての補助量子ビットにHゲートを追加する関数を用意します。"
      ],
      "metadata": {
        "id": "xuuvSNTT0Z6c"
      }
    },
    {
      "cell_type": "code",
      "source": [
        "def add_h_gates(n: int, circuit: QuantumCircuit) -> None:\n",
        "    for i in range(n):\n",
        "        circuit.add_H_gate(i)"
      ],
      "metadata": {
        "id": "S19LHaQz0aQu"
      },
      "execution_count": null,
      "outputs": []
    },
    {
      "cell_type": "markdown",
      "source": [
        "制御PhaseゲートをRZゲートとCNOTゲートの列に展開する関数を用意し、これを使って$U^{2^0}, U^{2^1}, …, U^{2^n}$を回路に追加する関数を用意します。任意のユニタリゲートを制御ユニタリゲートとして回路に埋め込むのは少し面倒ですね。将来的には制御ユニタリゲートを直接扱える機能もQURI Partsに追加される予定です。"
      ],
      "metadata": {
        "id": "FpFWyGve0egl"
      }
    },
    {
      "cell_type": "code",
      "source": [
        "def add_control_phase(circuit: QuantumCircuit, q0: int, q1: int, theta: float) -> None:\n",
        "    circuit.add_RZ_gate(q0, theta / 2)\n",
        "    circuit.add_CNOT_gate(q0, q1)\n",
        "    circuit.add_RZ_gate(q1, -theta / 2)\n",
        "    circuit.add_CNOT_gate(q0, q1)\n",
        "    circuit.add_RZ_gate(q1, theta / 2)\n",
        "\n",
        "\n",
        "def add_cp_gates(n: int, circuit: QuantumCircuit, theta: float) -> None:\n",
        "\n",
        "    for k in range(n):\n",
        "        q0 = n\n",
        "        for i in range(2 ** k):\n",
        "            add_control_phase(circuit, k, q0, theta)"
      ],
      "metadata": {
        "id": "BLBw8KXj0fa2"
      },
      "execution_count": null,
      "outputs": []
    },
    {
      "cell_type": "markdown",
      "source": [
        "最後に、量子フーリエ変換の逆演算を行う回路を追加する関数を作成します。"
      ],
      "metadata": {
        "id": "K5L17Nyi0i1h"
      }
    },
    {
      "cell_type": "code",
      "source": [
        "def add_qftdag_gates(n: int, circuit: QuantumCircuit) -> None:\n",
        "\n",
        "    for k in range(n // 2):\n",
        "        circuit.add_SWAP_gate(k, n - k - 1)\n",
        "\n",
        "    for k in range(n):\n",
        "        for i in range(k):\n",
        "            add_control_phase(circuit, i, k, -pi / (2 ** (k - i)))\n",
        "        circuit.add_H_gate(k)"
      ],
      "metadata": {
        "id": "mCywnPbv0jPm"
      },
      "execution_count": null,
      "outputs": []
    },
    {
      "cell_type": "markdown",
      "source": [
        "これらの関数を使って、位相推定回路を作ってみましょう。ここでは、補助量子ビットの数nを4とし、求める位相xを1/4としてみます。回路はとても長くなっています。興味がある方はプリントしてみてください。"
      ],
      "metadata": {
        "id": "XjpB6zkF0m4I"
      }
    },
    {
      "cell_type": "code",
      "source": [
        "n = 4\n",
        "x = 1 / 4\n",
        "\n",
        "circuit = QuantumCircuit(n + 1)\n",
        "\n",
        "add_h_gates(n, circuit)\n",
        "add_cp_gates(n, circuit, 2 * pi * x)\n",
        "add_qftdag_gates(n, circuit)"
      ],
      "metadata": {
        "id": "tFTTMmlg0nOz"
      },
      "execution_count": null,
      "outputs": []
    },
    {
      "cell_type": "markdown",
      "source": [
        "Phaseゲートの固有状態$|1⟩$を入力状態として用意します。"
      ],
      "metadata": {
        "id": "ec5JX5aW0qrE"
      }
    },
    {
      "cell_type": "code",
      "source": [
        "initial_state = quantum_state(n + 1, bits=1 << n)\n",
        "circuit = initial_state.circuit + circuit"
      ],
      "metadata": {
        "id": "pPBIimQg0rMn"
      },
      "execution_count": null,
      "outputs": []
    },
    {
      "cell_type": "markdown",
      "source": [
        "準備ができたので、回路を実行してみましょう。固有値が1つに定まっている場合、ノイズがない理想的な環境では、1回実行すれば100%の確率で正しい結果が得られますが、ここでは念の為1000回ほどサンプリングしてみます。"
      ],
      "metadata": {
        "id": "UTJxeIqV0utt"
      }
    },
    {
      "cell_type": "code",
      "source": [
        "sampler = create_qulacs_vector_sampler()\n",
        "result = sampler(circuit, shots=1000)\n",
        "print({bin(k): v for k, v in result.items()})  # 下位nビットを取り出しビット列としてプリント\n",
        "mask = int(\"1\" * n, 2)\n",
        "print({(k & mask) / (2 ** n): v for k, v in result.items()})  # 結果を10進数に変換"
      ],
      "metadata": {
        "id": "5WUUlwve0vE8",
        "colab": {
          "base_uri": "https://localhost:8080/"
        },
        "outputId": "8d747944-4743-4bf4-d670-30ab786c21f8"
      },
      "execution_count": null,
      "outputs": [
        {
          "output_type": "stream",
          "name": "stdout",
          "text": [
            "{'0b10100': 1000}\n",
            "{0.25: 1000}\n"
          ]
        }
      ]
    },
    {
      "cell_type": "markdown",
      "source": [
        "ここでは下位4ビットが補助量子ビットに相当します。x = 1/4の2進数表現である0b0100が得られています。\n",
        "\n",
        "もう少し精度を上げた計算もしてみましょう。ビット数n = 7、x = 0.421875として計算してみます。"
      ],
      "metadata": {
        "id": "WPWnqcCo0yyi"
      }
    },
    {
      "cell_type": "code",
      "source": [
        "n = 7\n",
        "x = 0.421875  # 1/4 + 1/8 + 1/32 + 1/64\n",
        "\n",
        "circuit = QuantumCircuit(n + 1)\n",
        "\n",
        "add_h_gates(n, circuit)\n",
        "add_cp_gates(n, circuit, 2 * pi * x)\n",
        "add_qftdag_gates(n, circuit)\n",
        "\n",
        "initial_state = quantum_state(n + 1, bits=1 << n)\n",
        "circuit = initial_state.circuit + circuit\n",
        "\n",
        "sampler = create_qulacs_vector_sampler()\n",
        "result = sampler(circuit, shots=1000)\n",
        "print({bin(k): v for k, v in result.items()})  # 下位nビットを取り出しビット列としてプリント\n",
        "mask = int(\"1\" * n, 2)\n",
        "print({(k & mask) / (2 ** n): v for k, v in result.items()})  # 結果を10進数に変換"
      ],
      "metadata": {
        "id": "nhCutvg-0zQv",
        "colab": {
          "base_uri": "https://localhost:8080/"
        },
        "outputId": "11d62269-ac26-4fb6-875b-c278cc6f3f55"
      },
      "execution_count": null,
      "outputs": [
        {
          "output_type": "stream",
          "name": "stdout",
          "text": [
            "{'0b10110110': 1000}\n",
            "{0.421875: 1000}\n"
          ]
        }
      ]
    },
    {
      "cell_type": "markdown",
      "source": [
        "期待通りの結果が得られているようです。"
      ],
      "metadata": {
        "id": "9P3UZoh703gx"
      }
    },
    {
      "cell_type": "markdown",
      "source": [
        "## ハイゼンベルグ模型での基底状態エネルギーの計算\n",
        "\n",
        "### モデル\n",
        "\n",
        "それでは具体的な例として、ハミルトニアンダイナミクスの章でも扱った1次元ハイゼンベルグ模型を取り上げて、量子位相推定によって基底状態エネルギーを計算してみましょう。このモデルのハミルトニアンは以下のようなものでした。\n",
        "\n",
        "$$H = J(X_0 X_1 + Y_0 Y_1 + Z_0 Z_1)$$\n",
        "\n",
        "基底エネルギーは厳密解が計算できます。デモンストレーション的ではありますが、量子位相推定によって、この厳密解が再現できることを確認してみましょう。\n",
        "\n",
        "### 厳密対角化\n",
        "今回考えるハミルトニアンは、 $4\\times 4$ 行列なので簡単に対角化することができます。以下では位相推定して得られた固有値が厳密解と比較しやすくなるよう、$J = - \\frac{\\pi}{2}$ とします。対角化すると\n",
        "\n",
        "$$\n",
        "\\left(\n",
        "\\begin{matrix}\n",
        "- \\frac{\\pi}{2} & 0 & 0 & 0 \\\\\n",
        "0 & - \\frac{\\pi}{2} & 0 & 0 \\\\\n",
        "0 & 0 & - \\frac{\\pi}{2} & 0 \\\\\n",
        "0 & 0 & 0 & \\frac{3\\pi}{2}\n",
        "\\end{matrix}\n",
        "\\right)\n",
        "$$\n",
        "\n",
        "となります。いま $J<0$ なので、基底状態は三重項を構成していて、基底エネルギーが $J$ で三重に縮退していることがわかります。（励起状態は一重項でエネルギーは $-3J$ となっています。）三重項を構成している基底状態は以下の通りです。\n",
        "\n",
        "$$\n",
        "|\\uparrow\\uparrow\\rangle,\\  \\frac{1}{\\sqrt{2}}(|\\uparrow\\downarrow\\rangle+|\\downarrow\\uparrow\\rangle),\\  |\\downarrow\\downarrow\\rangle.\n",
        "$$\n",
        "\n",
        "位相推定でハミルトニアンの固有値問題を解く際は、時間発展演算子 $U = e^{-iHτ}$ の固有値を求めることで、ハミルトニアンの固有値を求めます。$U$の固有値の位相には$2\\pi$ の不定性があるので、 $[E_{\\text{min}}, E_{\\text{max}}]$ が例えば $[-\\pi,\\pi)$ に収まるように調整することで、固有値が一意に求められます。ここでは$\\tau = 1/2$とすることで調整してみましょう。そうすると、位相推定では固有値を $λ = (2\\pi)0.j_1 j_2 … j_n$ と書いた際の $j_1, j_2, … ,j_n$が得られるので、例えば初期状態に $|\\uparrow\\uparrow\\rangle$ を選ぶと、$U$の固有値は$2\\pi × 1/8$ となり、$1/8$ の2進数表示 $0.001$ に対応する $j_1 =0, j_2 =0, j_3 = 1, \\dots$ が得られるはずです。\n"
      ],
      "metadata": {
        "id": "ljf4mtE-06Ef"
      }
    },
    {
      "cell_type": "markdown",
      "source": [
        "### 基底エネルギーの計算手順\n",
        "\n",
        "量子位相推定を用いた基底エネルギーの計算手順は以下の通りです。\n",
        "\n",
        "0. ハミルトニアンのサイズを対称性などを用いて削減する\n",
        "1. ハミルトニアンの時間発展演算子$U = e^{-iHτ}$を精度よく近似する\n",
        "2. 制御時間発展演算子を量子計算機で実行しやすいゲートセットに分解し実装する\n",
        "3. 基底状態と十分重なりのある初期状態を準備する\n",
        "4. 量子回路を実行し、エネルギー固有値を求める\n",
        "\n",
        "それでは実際にハイゼンベルグ模型の基底エネルギーを、位相推定を用いて計算してみましょう。ハミルトニアンのサイズは $4\\times4$ と十分小さいのでサイズの削減は考えないことにします。次に時間発展演算子 $U = e^{-iHτ}$ を精度よく近似する必要がありますが、ここではトロッター分解と呼ばれる手法を使います。\n",
        "時間発展演算子にトロッター分解を用いると\n",
        "\n",
        "$$\n",
        "U_H(\\tau) \\approx \\left(\\exp{\\left(-iJ\\frac{t}{M}X_0X_1\\right)}\\exp{\\left(-iJ\\frac{t}{M}Y_0Y_1\\right)}\\exp{\\left(-iJ\\frac{t}{M}Z_0Z_1\\right)}\\right)^M\n",
        "$$\n",
        "\n",
        "と分解できます。今回は単純のため $M=1$ とし、時間発展演算子を次のように分解します。\n",
        "\n",
        "$$\n",
        "U_{H, \\tau} = \\exp{\\left(-iJ\\tau X_0X_1\\right)}\\exp{\\left(-iJ\\tau Y_0Y_1\\right)}\\exp{\\left(-iJ\\tau Z_0Z_1\\right)}\n",
        "$$\n",
        "\n",
        "（モデルが単純な場合はこれでも良い精度で固有値が得られます。）各項のユニタリ演算子は量子コンピュータで実行できるゲートセットに分解できます。\n",
        "\n",
        "あとは基底状態と十分重なりのある初期状態を準備する必要がありますが、ここでは少しズルをして初期状態として基底状態  $|\\uparrow\\uparrow\\rangle$ を選びます。あとは位相推定を行い、固有値を求めるだけです。\n",
        "\n",
        "Phaseゲートの位相推定の例でみたように、各ユニタリ演算子をコントロールゲートに変換する必要があります。"
      ],
      "metadata": {
        "id": "2dbeq9Yt09aP"
      }
    },
    {
      "cell_type": "code",
      "source": [
        "def add_cu_gates(n: int, circuit: QuantumCircuit, phi: float, n_trotter_step: float = 1) -> None:\n",
        "    q0, q1 = n, n + 1\n",
        "    # n: system qubits\n",
        "    for k in range(n):\n",
        "        for i in range(2 ** k):\n",
        "            for _ in range(n_trotter_step):\n",
        "\n",
        "                # CU(X0 X1)\n",
        "                circuit.add_H_gate(q0)\n",
        "                circuit.add_H_gate(q1)\n",
        "                circuit.add_CNOT_gate(q1, q0)\n",
        "                circuit.add_RZ_gate(q0, phi)\n",
        "                circuit.add_CNOT_gate(k, q0)\n",
        "                circuit.add_RZ_gate(q0, -phi)\n",
        "                circuit.add_CNOT_gate(k, q0)\n",
        "                circuit.add_CNOT_gate(q1, q0)\n",
        "                circuit.add_H_gate(q0)\n",
        "                circuit.add_H_gate(q1)\n",
        "\n",
        "                # CU(Y0 Y1)\n",
        "                circuit.add_Sdag_gate(q0)\n",
        "                circuit.add_Sdag_gate(q1)\n",
        "                circuit.add_H_gate(q0)\n",
        "                circuit.add_H_gate(q1)\n",
        "                circuit.add_CNOT_gate(q1, q0)\n",
        "                circuit.add_RZ_gate(q0, phi)\n",
        "                circuit.add_CNOT_gate(k, q0)\n",
        "                circuit.add_RZ_gate(q0, -phi)\n",
        "                circuit.add_CNOT_gate(k, q0)\n",
        "                circuit.add_CNOT_gate(q1, q0)\n",
        "                circuit.add_H_gate(q0)\n",
        "                circuit.add_H_gate(q1)\n",
        "                circuit.add_S_gate(q0)\n",
        "                circuit.add_S_gate(q1)\n",
        "\n",
        "                # CU(Z0 Z1)\n",
        "                circuit.add_CNOT_gate(q1, q0)\n",
        "                circuit.add_RZ_gate(q0, phi)\n",
        "                circuit.add_CNOT_gate(k, q0)\n",
        "                circuit.add_RZ_gate(q0, -phi)\n",
        "                circuit.add_CNOT_gate(k, q0)\n",
        "                circuit.add_CNOT_gate(q1, q0)\n",
        "    return circuit"
      ],
      "metadata": {
        "id": "G4VEmaYz035O"
      },
      "execution_count": null,
      "outputs": []
    },
    {
      "cell_type": "markdown",
      "source": [
        "あとはこれらを用いて位相推定を行います。ここでは補助量子ビットを3つ用意します。前述の通り、位相推定するユニタリ演算子 $U = e^{-iH\\tau}$ は $2\\pi$ の不定性があるので、ここでは$\\tau = 1/2$とすることで、$[E_{\\text{min}}, E_{\\text{max}}]$ が $[-\\pi,\\pi)$ に収まるように調整します。"
      ],
      "metadata": {
        "id": "YLa6F3_m1Dq6"
      }
    },
    {
      "cell_type": "code",
      "source": [
        "# 補助量子ビット数\n",
        "n = 3\n",
        "\n",
        "# モデルパラメーター\n",
        "J = -pi / 2\n",
        "tau = 1 / 2\n",
        "phi = tau * J\n",
        "\n",
        "circuit = QuantumCircuit(n + 2)\n",
        "\n",
        "# 初期状態を作る回路を準備。補助ビットは0, 入力状態は |11>\n",
        "initial_state = quantum_state(n + 2, bits=0b11 << n)\n",
        "initial_circuit = initial_state.circuit\n",
        "\n",
        "# アダマールゲートを補助量子ビットに作用させる\n",
        "add_h_gates(n, circuit)\n",
        "\n",
        "# 時間発展演算子をコントロールゲートにして作用させる\n",
        "add_cu_gates(n, circuit, phi)\n",
        "\n",
        "# 逆フーリエ変換を行う\n",
        "add_qftdag_gates(n, circuit)\n",
        "\n",
        "# 初期状態回路と位相推定回路を組み合わせる。\n",
        "circuit = initial_circuit + circuit"
      ],
      "metadata": {
        "id": "FIEYHtYd1EM4"
      },
      "execution_count": null,
      "outputs": []
    },
    {
      "cell_type": "markdown",
      "source": [
        "これで回路が準備できたので、あとは実際にサンプリングしてみましょう。"
      ],
      "metadata": {
        "id": "cSc9hkK41SxU"
      }
    },
    {
      "cell_type": "code",
      "source": [
        "sampler = create_qulacs_vector_sampler()\n",
        "result = sampler(circuit, shots=1000)\n",
        "print(result)\n",
        "print({bin(k): v for k, v in result.items()})"
      ],
      "metadata": {
        "id": "uGFhHI6u1TQf",
        "colab": {
          "base_uri": "https://localhost:8080/"
        },
        "outputId": "6c2127dd-2ffc-4410-a448-597aa56e9c71"
      },
      "execution_count": null,
      "outputs": [
        {
          "output_type": "stream",
          "name": "stdout",
          "text": [
            "Counter({25: 1000})\n",
            "{'0b11001': 1000}\n"
          ]
        }
      ]
    },
    {
      "cell_type": "markdown",
      "source": [
        "結果を見ると、ビット列 $11001$ が得られています。最初の $11$ は入力状態で、後ろの3つが得られた固有値を表しています。2進数表現で$001$、10進数表現では$1/8$なので、ハミルトニアンの固有値に直すと、$U = e^{-iH\\tau}$より$\\frac{2\\pi \\times 1/8}{-\\tau} = -\\frac{\\pi}{2}$ となります。これは今考えているハミルトニアンの基底エネルギー$J = -\\frac{\\pi}{2}$と一致していることがわかります。"
      ],
      "metadata": {
        "id": "Ws5OtRiF1W7E"
      }
    },
    {
      "cell_type": "markdown",
      "source": [
        "## Exercise 6\n",
        "\n",
        "Phaseゲートの位相推定で、$x = \\pi / 10$とした場合どうなるか試してみてください。また、10進数で3桁の精度を得るにはnを幾つにするべきか求めてみてください。\n"
      ],
      "metadata": {
        "id": "Hw1quFYA1Z0-"
      }
    },
    {
      "cell_type": "markdown",
      "source": [
        "今回の講義、ハンズオンセッションについて簡単なアンケートを用意しました。お答えいただけると幸いです。\n",
        "\n",
        "[アンケート](https://docs.google.com/forms/d/e/1FAIpQLSeq3g_dwRvwMqFYZXhm2wc0YX9cKLLMgFuYA1fXw8Zh8X2iYw/viewform![図1.png](data:image/png;base64,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))"
      ],
      "metadata": {
        "id": "9MRC8b_unYnz"
      }
    }
  ]
}